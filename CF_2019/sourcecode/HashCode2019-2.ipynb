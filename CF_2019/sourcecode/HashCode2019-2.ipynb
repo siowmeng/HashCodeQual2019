{
 "cells": [
  {
   "cell_type": "code",
   "execution_count": 3,
   "metadata": {},
   "outputs": [],
   "source": [
    "import numpy as np\n",
    "import random\n",
    "from tqdm import tqdm_notebook"
   ]
  },
  {
   "cell_type": "code",
   "execution_count": 4,
   "metadata": {},
   "outputs": [],
   "source": [
    "# Input Class: List of Photos\n",
    "class photo():\n",
    "    \n",
    "    def __init__(self, photoID, orient, tagsNum, tags):\n",
    "        \n",
    "        self.photoID = photoID\n",
    "        self.orient = orient\n",
    "        self.tags = tags\n",
    "        self.tagsNum = tagsNum\n",
    "\n",
    "# Output Class: List of Slides\n",
    "class slide():\n",
    "    \n",
    "    def __init__(self, slideType, photos):\n",
    "        \n",
    "        self.slideType = slideType\n",
    "        self.photos = photos\n",
    "        \n",
    "        self.tags = set([])\n",
    "        \n",
    "        for photo in self.photos:\n",
    "            self.tags = self.tags.union(photo.tags)\n",
    "\n",
    "def calcTransScores(slide1, slide2):\n",
    "    \n",
    "    numCommon = len(slide1.tags.intersection(slide2.tags))\n",
    "    numDiff1 = len(slide1.tags.difference(slide2.tags))\n",
    "    numDiff2 = len(slide2.tags.difference(slide1.tags))\n",
    "    \n",
    "    return min(numCommon, numDiff1, numDiff2)\n",
    "\n",
    "def calcSlideshowScores(listSlides):\n",
    "    \n",
    "    prevSlide = None\n",
    "    currSlide = None\n",
    "    \n",
    "    totalScore = 0\n",
    "    for s in listSlides:\n",
    "        prevSlide = currSlide\n",
    "        currSlide = s\n",
    "        \n",
    "        if prevSlide == None:\n",
    "            continue\n",
    "        \n",
    "        totalScore += calcTransScores(prevSlide, currSlide)\n",
    "    \n",
    "    return totalScore"
   ]
  },
  {
   "cell_type": "code",
   "execution_count": 5,
   "metadata": {},
   "outputs": [],
   "source": [
    "def num_of_photos(filename):\n",
    "   lines = open(filename).readlines()\n",
    "   N = int(lines[0].split()[0])\n",
    "\n",
    "   return N\n",
    "\n",
    "def input_parser(filepath):\n",
    "    lines = open(filepath).readlines()\n",
    "    i = 0\n",
    "    photos = []\n",
    "    alltags = []\n",
    "    for line in lines:\n",
    "        if i > 0:\n",
    "            photo_info = line.split(' ')\n",
    "            orientation = photo_info[0]\n",
    "            tag_num = int(photo_info[1])\n",
    "            tags = []\n",
    "            for j in range(tag_num):\n",
    "                tags.append(photo_info[2+j].rstrip())\n",
    "                alltags.extend(tags)\n",
    "            photo_id = i - 1\n",
    "            photos.append(photo(photoID=photo_id, orient=orientation, tagsNum = tag_num, tags = tags))\n",
    "        i += 1\n",
    "        \n",
    "    return photos, alltags"
   ]
  },
  {
   "cell_type": "code",
   "execution_count": 6,
   "metadata": {},
   "outputs": [],
   "source": [
    "def output_slideshow(filename, slide_list):\n",
    "    \"\"\"\n",
    "    returns: Output File given a list of slide class\n",
    "    \"\"\"\n",
    "    \"\"\"Writes an output file with the required format.\"\"\"\n",
    "    with open(filename, 'w') as f:\n",
    "\n",
    "        f.write(f\"{len(slide_list)}\\n\")\n",
    "\n",
    "        for slide in slide_list:\n",
    "            if slide.slideType == 'V':\n",
    "                V1, V2 = slide.photos\n",
    "                f.write(f\"{V1.photoID} {V2.photoID}\\n\")\n",
    "            else:\n",
    "                H = slide.photos[0]\n",
    "                f.write(f\"{H.photoID}\\n\")"
   ]
  },
  {
   "cell_type": "code",
   "execution_count": 7,
   "metadata": {},
   "outputs": [],
   "source": [
    "def filterPhotos(photos, orient):\n",
    "    out = []\n",
    "    for photo in photos:\n",
    "        #print(photo.tagsNum)\n",
    "        if (photo.orient == orient):\n",
    "            out.append(photo)\n",
    "    \n",
    "    return out"
   ]
  },
  {
   "cell_type": "code",
   "execution_count": 8,
   "metadata": {},
   "outputs": [],
   "source": [
    "def generateSlides(Deck):\n",
    "\n",
    "    N = len(Deck)\n",
    "    pbar = tqdm_notebook(total = N)    \n",
    "    \n",
    "    myList = list(range(0,N))\n",
    "    out = []\n",
    "    \n",
    "    while len(myList) > 0:\n",
    "        N = random.choice(myList)\n",
    "        myList.remove(N)\n",
    "        S = createSlide([Deck[N]])\n",
    "        out.append(S)\n",
    "        pbar.update(1)\n",
    "        \n",
    "    pbar.close()\n",
    "    return out"
   ]
  },
  {
   "cell_type": "code",
   "execution_count": 9,
   "metadata": {},
   "outputs": [],
   "source": [
    "def generateSlides2(Deck):\n",
    "\n",
    "    Num = len(Deck)\n",
    "    TopN = int(0.25 * Num)\n",
    "    pbar = tqdm_notebook(total = Num)\n",
    "    \n",
    "    out = []\n",
    "    S1 = createSlide([Deck[0]])\n",
    "    del Deck[0]\n",
    "    out.append(S1)\n",
    "    \n",
    "    while len(Deck) > 1:\n",
    "        pbar.update(1)\n",
    "        #print(len(Deck))\n",
    "        \n",
    "        N = 0\n",
    "        S2, N, Score = findNextBest(S1, Deck[0:TopN])\n",
    "        \n",
    "        if Score != 0:\n",
    "            out.append(S2)\n",
    "            del Deck[N]\n",
    "            S1 = S2\n",
    "        else:\n",
    "            S1 = createSlide([Deck[0]])\n",
    "            del Deck[0]\n",
    "            out.append(S1)\n",
    "\n",
    "    out.append(createSlide([Deck[0]]))\n",
    "    \n",
    "    pbar.close()\n",
    "    return out"
   ]
  },
  {
   "cell_type": "code",
   "execution_count": 10,
   "metadata": {},
   "outputs": [],
   "source": [
    "def findNextBest(Current, PhotoList):\n",
    "    \n",
    "    N = len(PhotoList)\n",
    "    Score = 0\n",
    "    Best = Current\n",
    "    Num = 0\n",
    "    \n",
    "    for i in range(0,N):\n",
    "        TestSlide = createSlide([PhotoList[i]])\n",
    "        TestScore = calcTransScores(Current, TestSlide)\n",
    "        if (TestScore > Score):\n",
    "            Best = TestSlide\n",
    "            Score = TestScore\n",
    "            Num = i\n",
    "\n",
    "    return Best, Num, Score"
   ]
  },
  {
   "cell_type": "code",
   "execution_count": 11,
   "metadata": {},
   "outputs": [],
   "source": [
    "def createSlide(photos):\n",
    "    if len(photos) == 1:\n",
    "        out = slide('H', photos)\n",
    "    else:\n",
    "        out = slide('V', photos)\n",
    "    return out"
   ]
  },
  {
   "cell_type": "code",
   "execution_count": 12,
   "metadata": {},
   "outputs": [],
   "source": [
    "def get_jaccard_sim(L1, L2): \n",
    "    a = set(L1) \n",
    "    b = set(L2)\n",
    "    c = a.intersection(b)\n",
    "    return float(len(c)) / (len(a) + len(b) - len(c))\n",
    "    "
   ]
  },
  {
   "cell_type": "code",
   "execution_count": 13,
   "metadata": {},
   "outputs": [],
   "source": [
    "inputfile = '../data/b_lovely_landscapes.txt'\n",
    "outputfile = '../data/b_lovely_landscapes_out.txt'\n",
    "\n",
    "N = num_of_photos(inputfile)\n",
    "myPhotos, allTags = input_parser(inputfile)"
   ]
  },
  {
   "cell_type": "code",
   "execution_count": 15,
   "metadata": {},
   "outputs": [],
   "source": [
    "V = filterPhotos(myPhotos, \"V\")\n",
    "H = filterPhotos(myPhotos, \"H\")"
   ]
  },
  {
   "cell_type": "code",
   "execution_count": 16,
   "metadata": {},
   "outputs": [],
   "source": [
    "H.sort(key=lambda x: x.tagsNum, reverse=True)\n",
    "V.sort(key=lambda x: x.tagsNum, reverse=True)"
   ]
  },
  {
   "cell_type": "code",
   "execution_count": null,
   "metadata": {},
   "outputs": [
    {
     "data": {
      "application/vnd.jupyter.widget-view+json": {
       "model_id": "450eb962d6504e128f6dee30ca359c92",
       "version_major": 2,
       "version_minor": 0
      },
      "text/plain": [
       "HBox(children=(IntProgress(value=0, max=80000), HTML(value='')))"
      ]
     },
     "metadata": {},
     "output_type": "display_data"
    }
   ],
   "source": [
    "myFinal = generateSlides2(H)\n",
    "\n",
    "output_slideshow(outputfile,myFinal)"
   ]
  },
  {
   "cell_type": "code",
   "execution_count": 79,
   "metadata": {},
   "outputs": [
    {
     "name": "stdout",
     "output_type": "stream",
     "text": [
      "721\n"
     ]
    }
   ],
   "source": [
    "print(calcSlideshowScores(myFinal))"
   ]
  },
  {
   "cell_type": "code",
   "execution_count": null,
   "metadata": {},
   "outputs": [],
   "source": [
    "H[1051]"
   ]
  },
  {
   "cell_type": "code",
   "execution_count": null,
   "metadata": {},
   "outputs": [],
   "source": [
    "import collections\n",
    "allTagsCount = collections.Counter(allTags)\n",
    "sorted(allTagsCount.items(), key=lambda x: x[1], reverse=True)"
   ]
  },
  {
   "cell_type": "code",
   "execution_count": null,
   "metadata": {},
   "outputs": [],
   "source": [
    "allTagsCount"
   ]
  },
  {
   "cell_type": "code",
   "execution_count": null,
   "metadata": {},
   "outputs": [],
   "source": [
    "L1 = H[100].tags\n",
    "L2 = H[101].tags\n",
    "\n",
    "print(sorted(L1))\n",
    "print(sorted(L2))\n",
    "\n",
    "get_jaccard_sim(L1,L2)"
   ]
  },
  {
   "cell_type": "code",
   "execution_count": 1,
   "metadata": {},
   "outputs": [
    {
     "ename": "NameError",
     "evalue": "name 'filterPhotos' is not defined",
     "output_type": "error",
     "traceback": [
      "\u001b[0;31m---------------------------------------------------------------------------\u001b[0m",
      "\u001b[0;31mNameError\u001b[0m                                 Traceback (most recent call last)",
      "\u001b[0;32m<ipython-input-1-3e1884c815c2>\u001b[0m in \u001b[0;36m<module>\u001b[0;34m\u001b[0m\n\u001b[0;32m----> 1\u001b[0;31m \u001b[0mH\u001b[0m \u001b[0;34m=\u001b[0m \u001b[0mfilterPhotos\u001b[0m\u001b[0;34m(\u001b[0m\u001b[0mmyPhotos\u001b[0m\u001b[0;34m,\u001b[0m \u001b[0;34m\"H\"\u001b[0m\u001b[0;34m)\u001b[0m\u001b[0;34m\u001b[0m\u001b[0;34m\u001b[0m\u001b[0m\n\u001b[0m",
      "\u001b[0;31mNameError\u001b[0m: name 'filterPhotos' is not defined"
     ]
    }
   ],
   "source": [
    "H = filterPhotos(myPhotos, \"H\")"
   ]
  },
  {
   "cell_type": "code",
   "execution_count": 35,
   "metadata": {},
   "outputs": [],
   "source": [
    "def analyseTags(PhotoList):\n",
    "    \n",
    "    pbar = tqdm_notebook(total = len(PhotoList)**2)\n",
    "    \n",
    "    iter1 = iter(PhotoList)\n",
    "    iter2 = iter(PhotoList)\n",
    "    similarity = 0\n",
    "    out = []\n",
    "    \n",
    "    while True:\n",
    "        try:\n",
    "            iter2 = iter(PhotoList)\n",
    "            T1 = next(iter1)\n",
    "            while True:\n",
    "                try:\n",
    "                    T2 = next(iter2)\n",
    "                    similarity = get_jaccard_sim(T1.tags,T2.tags)\n",
    "                    if (similarity > 0 and similarity < 1):\n",
    "                        out.append([T1.photoID,T2.photoID,similarity])\n",
    "                    pbar.update(1)\n",
    "                except StopIteration:\n",
    "                    break\n",
    "        except StopIteration:\n",
    "            break\n",
    "                \n",
    "    pbar.close()        \n",
    "    return(out)\n",
    "                "
   ]
  },
  {
   "cell_type": "code",
   "execution_count": 38,
   "metadata": {},
   "outputs": [
    {
     "data": {
      "application/vnd.jupyter.widget-view+json": {
       "model_id": "b92eb177ec104a808f24adff95f3fb24",
       "version_major": 2,
       "version_minor": 0
      },
      "text/plain": [
       "HBox(children=(IntProgress(value=0, max=6400000000), HTML(value='')))"
      ]
     },
     "metadata": {},
     "output_type": "display_data"
    }
   ],
   "source": [
    "myPair = analyseTags(H)"
   ]
  },
  {
   "cell_type": "code",
   "execution_count": 40,
   "metadata": {},
   "outputs": [],
   "source": [
    "import pandas as pd\n",
    "\n",
    "myPairDF = pd.DataFrame(myPair, columns=['P1','P2','Similarity'])"
   ]
  },
  {
   "cell_type": "code",
   "execution_count": 42,
   "metadata": {},
   "outputs": [],
   "source": [
    "myPairDF.to_csv(\"../data/Similarity2.csv\")"
   ]
  },
  {
   "cell_type": "code",
   "execution_count": null,
   "metadata": {},
   "outputs": [],
   "source": [
    "myPhoto1 = photo('0','H',['A','B'])\n",
    "myPhoto2 = photo('1','V',['B','C'])\n",
    "myPhoto3 = photo('2','V',['C','D'])\n",
    "\n",
    "mySlideList = [mySlide1,mySlide2]"
   ]
  },
  {
   "cell_type": "code",
   "execution_count": null,
   "metadata": {},
   "outputs": [],
   "source": [
    "myPhotos[0].orient"
   ]
  },
  {
   "cell_type": "code",
   "execution_count": null,
   "metadata": {},
   "outputs": [],
   "source": [
    "T = getAllTags(myPhotos)"
   ]
  },
  {
   "cell_type": "code",
   "execution_count": null,
   "metadata": {},
   "outputs": [],
   "source": [
    "np\n",
    "\n",
    "mySlide1 = createSlide([H[3]])\n",
    "\n",
    "mySlide2 = createSlide([V[2],V[5]])\n",
    "\n",
    "\n",
    "calcTransScores(mySlide1,mySlide2)"
   ]
  },
  {
   "cell_type": "code",
   "execution_count": null,
   "metadata": {},
   "outputs": [],
   "source": [
    "First2, myRemaining, myFirst, myLast = generateFirst2(H)\n"
   ]
  },
  {
   "cell_type": "code",
   "execution_count": null,
   "metadata": {},
   "outputs": [],
   "source": [
    "type(First2)"
   ]
  },
  {
   "cell_type": "code",
   "execution_count": null,
   "metadata": {},
   "outputs": [],
   "source": [
    "myNext, myRemaining, myLast = generateNext(H, myRemaining, myLast)"
   ]
  },
  {
   "cell_type": "code",
   "execution_count": null,
   "metadata": {},
   "outputs": [],
   "source": [
    "myFinal = generateSlides(H)"
   ]
  },
  {
   "cell_type": "code",
   "execution_count": null,
   "metadata": {},
   "outputs": [],
   "source": [
    "myFinal"
   ]
  },
  {
   "cell_type": "code",
   "execution_count": null,
   "metadata": {},
   "outputs": [],
   "source": [
    "myFinal = list(filter(None, myFinal)) # fastest"
   ]
  },
  {
   "cell_type": "code",
   "execution_count": null,
   "metadata": {},
   "outputs": [],
   "source": [
    "output_slideshow('../data/outputTest.txt',myFinal)"
   ]
  },
  {
   "cell_type": "code",
   "execution_count": null,
   "metadata": {},
   "outputs": [],
   "source": []
  }
 ],
 "metadata": {
  "kernelspec": {
   "display_name": "Python 3",
   "language": "python",
   "name": "python3"
  },
  "language_info": {
   "codemirror_mode": {
    "name": "ipython",
    "version": 3
   },
   "file_extension": ".py",
   "mimetype": "text/x-python",
   "name": "python",
   "nbconvert_exporter": "python",
   "pygments_lexer": "ipython3",
   "version": "3.7.1"
  }
 },
 "nbformat": 4,
 "nbformat_minor": 2
}
