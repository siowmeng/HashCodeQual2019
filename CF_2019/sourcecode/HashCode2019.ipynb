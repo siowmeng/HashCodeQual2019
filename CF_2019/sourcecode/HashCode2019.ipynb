{
 "cells": [
  {
   "cell_type": "code",
   "execution_count": 1,
   "metadata": {},
   "outputs": [],
   "source": [
    "import numpy as np\n",
    "import random\n",
    "from tqdm import tqdm_notebook"
   ]
  },
  {
   "cell_type": "code",
   "execution_count": 2,
   "metadata": {},
   "outputs": [],
   "source": [
    "# Input Class: List of Photos\n",
    "class photo():\n",
    "    \n",
    "    def __init__(self, photoID, orient, tagsNum, tags):\n",
    "        \n",
    "        self.photoID = photoID\n",
    "        self.orient = orient\n",
    "        self.tags = tags\n",
    "        self.tagsNum = tagsNum\n",
    "\n",
    "# Output Class: List of Slides\n",
    "class slide():\n",
    "    \n",
    "    def __init__(self, slideType, photos):\n",
    "        \n",
    "        self.slideType = slideType\n",
    "        self.photos = photos\n",
    "        \n",
    "        self.tags = set([])\n",
    "        \n",
    "        for photo in self.photos:\n",
    "            self.tags = self.tags.union(photo.tags)\n",
    "\n",
    "def calcTransScores(slide1, slide2):\n",
    "    \n",
    "    numCommon = len(slide1.tags.intersection(slide2.tags))\n",
    "    numDiff1 = len(slide1.tags.difference(slide2.tags))\n",
    "    numDiff2 = len(slide2.tags.difference(slide1.tags))\n",
    "    \n",
    "    return min(numCommon, numDiff1, numDiff2)\n",
    "\n",
    "def calcSlideshowScores(listSlides):\n",
    "    \n",
    "    prevSlide = None\n",
    "    currSlide = None\n",
    "    \n",
    "    totalScore = 0\n",
    "    for s in listSlides:\n",
    "        prevSlide = currSlide\n",
    "        currSlide = s\n",
    "        \n",
    "        if prevSlide == None:\n",
    "            continue\n",
    "        \n",
    "        totalScore += calcTransScores(prevSlide, currSlide)\n",
    "    \n",
    "    return totalScore"
   ]
  },
  {
   "cell_type": "code",
   "execution_count": 3,
   "metadata": {},
   "outputs": [],
   "source": [
    "def num_of_photos(filename):\n",
    "   lines = open(filename).readlines()\n",
    "   N = int(lines[0].split()[0])\n",
    "\n",
    "   return N\n",
    "\n",
    "def input_parser(filepath):\n",
    "    lines = open(filepath).readlines()\n",
    "    i = 0\n",
    "    photos = []\n",
    "    alltags = []\n",
    "    for line in lines:\n",
    "        if i > 0:\n",
    "            photo_info = line.split(' ')\n",
    "            orientation = photo_info[0]\n",
    "            tag_num = int(photo_info[1])\n",
    "            tags = []\n",
    "            for j in range(tag_num):\n",
    "                tags.append(photo_info[2+j].rstrip())\n",
    "                alltags.extend(tags)\n",
    "            photo_id = i - 1\n",
    "            photos.append(photo(photoID=photo_id, orient=orientation, tagsNum = tag_num, tags = tags))\n",
    "        i += 1\n",
    "        \n",
    "    return photos, alltags"
   ]
  },
  {
   "cell_type": "code",
   "execution_count": 4,
   "metadata": {},
   "outputs": [],
   "source": [
    "def output_slideshow(filename, slide_list):\n",
    "    \"\"\"\n",
    "    returns: Output File given a list of slide class\n",
    "    \"\"\"\n",
    "    \"\"\"Writes an output file with the required format.\"\"\"\n",
    "    with open(filename, 'w') as f:\n",
    "\n",
    "        f.write(f\"{len(slide_list)}\\n\")\n",
    "\n",
    "        for slide in slide_list:\n",
    "            if slide.slideType == 'V':\n",
    "                V1, V2 = slide.photos\n",
    "                f.write(f\"{V1.photoID} {V2.photoID}\\n\")\n",
    "            else:\n",
    "                H = slide.photos[0]\n",
    "                f.write(f\"{H.photoID}\\n\")"
   ]
  },
  {
   "cell_type": "code",
   "execution_count": 5,
   "metadata": {},
   "outputs": [],
   "source": [
    "def filterPhotos(photos, orient):\n",
    "    out = []\n",
    "    for photo in photos:\n",
    "        #print(photo.tagsNum)\n",
    "        if (photo.orient == orient):\n",
    "            out.append(photo)\n",
    "    \n",
    "    return out"
   ]
  },
  {
   "cell_type": "code",
   "execution_count": 15,
   "metadata": {},
   "outputs": [],
   "source": [
    "def generateSlides(Deck):\n",
    "\n",
    "    N = len(Deck)\n",
    "    pbar = tqdm_notebook(total = N)    \n",
    "    \n",
    "    myList = list(range(0,N))\n",
    "    out = []\n",
    "    \n",
    "    while len(myList) > 0:\n",
    "        N = random.choice(myList)\n",
    "        myList.remove(N)\n",
    "        S = createSlide([Deck[N]])\n",
    "        out.append(S)\n",
    "        pbar.update(1)\n",
    "        \n",
    "    pbar.close()\n",
    "    return out"
   ]
  },
  {
   "cell_type": "code",
   "execution_count": 80,
   "metadata": {},
   "outputs": [],
   "source": [
    "def generateSlides2(Deck):\n",
    "\n",
    "    Num = len(Deck)\n",
    "    TopN = int(0.25 * Num)\n",
    "    pbar = tqdm_notebook(total = Num)\n",
    "    \n",
    "    out = []\n",
    "    S1 = createSlide([Deck[0]])\n",
    "    del Deck[0]\n",
    "    out.append(S1)\n",
    "    \n",
    "    while len(Deck) > 1:\n",
    "        pbar.update(1)\n",
    "        #print(len(Deck))\n",
    "        \n",
    "        N = 0\n",
    "        S2, N, Score = findNextBest(S1, Deck[0:TopN])\n",
    "        \n",
    "        if Score != 0:\n",
    "            out.append(S2)\n",
    "            del Deck[N]\n",
    "            S1 = S2\n",
    "        else:\n",
    "            S1 = createSlide([Deck[0]])\n",
    "            del Deck[0]\n",
    "            out.append(S1)\n",
    "\n",
    "    out.append(createSlide([Deck[0]]))\n",
    "    \n",
    "    pbar.close()\n",
    "    return out"
   ]
  },
  {
   "cell_type": "code",
   "execution_count": 192,
   "metadata": {},
   "outputs": [],
   "source": [
    "def findNextBest(Current, PhotoList):\n",
    "    \n",
    "    N = len(PhotoList)\n",
    "    Score = 0\n",
    "    Best = Current\n",
    "    Num = 0\n",
    "    \n",
    "    for i in range(0,N):\n",
    "        TestSlide = createSlide([PhotoList[i]])\n",
    "        TestScore = calcTransScores(Current, TestSlide)\n",
    "        if (TestScore > Score):\n",
    "            Best = TestSlide\n",
    "            Score = TestScore\n",
    "            Num = i\n",
    "\n",
    "    return Best, Num, Score"
   ]
  },
  {
   "cell_type": "code",
   "execution_count": 82,
   "metadata": {},
   "outputs": [],
   "source": [
    "def createSlide(photos):\n",
    "    if len(photos) == 1:\n",
    "        out = slide('H', photos)\n",
    "    else:\n",
    "        out = slide('V', photos)\n",
    "    return out"
   ]
  },
  {
   "cell_type": "code",
   "execution_count": 83,
   "metadata": {},
   "outputs": [],
   "source": [
    "def get_jaccard_sim(L1, L2): \n",
    "    a = set(L1) \n",
    "    b = set(L2)\n",
    "    c = a.intersection(b)\n",
    "    return float(len(c)) / (len(a) + len(b) - len(c))\n",
    "    "
   ]
  },
  {
   "cell_type": "code",
   "execution_count": 94,
   "metadata": {},
   "outputs": [],
   "source": [
    "def comparePhoto(P1, P2):\n",
    "    return get_jaccard_sim(P1.tags, P2.tags)"
   ]
  },
  {
   "cell_type": "code",
   "execution_count": 468,
   "metadata": {},
   "outputs": [],
   "source": [
    "def genTransition(SlideList, track=False, limit=1000):\n",
    "    \n",
    "    if track:\n",
    "        pbar = tqdm_notebook(total = len(SlideList))\n",
    "    \n",
    "    F = random.randint(0, 100)\n",
    "    current = SlideList[F]\n",
    "    del SlideList[F]\n",
    "    \n",
    "    out = []\n",
    "    out.append(current)\n",
    "    \n",
    "    while len(SlideList) > 1:\n",
    "        if track:\n",
    "            pbar.update(1)\n",
    "        \n",
    "        if len(SlideList) < limit:\n",
    "            limit = len(SlideList)\n",
    "            \n",
    "        nextS, N, Score = findNextBestSlide(current, SlideList[0:limit])\n",
    "        #print(next,N,Score)\n",
    "        \n",
    "        if Score > 0:\n",
    "            out.append(nextS)\n",
    "            del SlideList[N]\n",
    "            current = nextS\n",
    "        else:\n",
    "            F = random.randint(0,0)\n",
    "            current = SlideList[F]\n",
    "            del SlideList[F]\n",
    "            out.append(current)\n",
    "            \n",
    "    out.append(SlideList[0])\n",
    "\n",
    "    if track:\n",
    "        pbar.close()    \n",
    "    return out\n",
    "    "
   ]
  },
  {
   "cell_type": "code",
   "execution_count": 252,
   "metadata": {},
   "outputs": [],
   "source": [
    "def findNextBestSlide(CurrentSlide, SlideList):\n",
    "    \n",
    "    N = len(SlideList)\n",
    "    Score = 0\n",
    "    BestSlide = CurrentSlide\n",
    "    Num = 0\n",
    "    \n",
    "    for i in range(0,N):\n",
    "        TestScore = calcTransScores(CurrentSlide, SlideList[i])\n",
    "        if (TestScore > Score):\n",
    "            BestSlide = SlideList[i]\n",
    "            Score = TestScore\n",
    "            Num = i\n",
    "\n",
    "    return BestSlide, Num, Score"
   ]
  },
  {
   "cell_type": "code",
   "execution_count": 417,
   "metadata": {},
   "outputs": [],
   "source": [
    "def prepareVSlides(PhotoList):\n",
    "    \n",
    "    count = len(PhotoList)\n",
    "    breakcnt = 0\n",
    "    out = []\n",
    "    \n",
    "    while len(PhotoList) > 0:\n",
    "        found = False \n",
    "        P1 = random.choice(PhotoList)\n",
    "        P2 = random.choice(PhotoList)\n",
    "        similarity = comparePhoto(P1, P2)\n",
    "        \n",
    "        if similarity == 0:\n",
    "            S = createSlide([P1,P2])\n",
    "            PhotoList.remove(P1)\n",
    "            PhotoList.remove(P2)\n",
    "            count -= 2\n",
    "            out.append(S)    \n",
    "            found = True\n",
    "            breakcnt = 0\n",
    "            \n",
    "        if found == False:\n",
    "            breakcnt += 1\n",
    "            \n",
    "        if breakcnt == 1000:\n",
    "            break\n",
    "            \n",
    "#    print('Start Anyhow')\n",
    "#    print(len(PhotoList))\n",
    "    \n",
    "    while len(PhotoList) > 0:\n",
    "        P1 = random.choice(PhotoList)\n",
    "        P2 = random.choice(PhotoList)\n",
    "        \n",
    "        if P1 != P2:\n",
    "            S = createSlide([P1,P2])\n",
    "            PhotoList.remove(P1)\n",
    "            PhotoList.remove(P2)\n",
    "            out.append(S)    \n",
    "        \n",
    "    return out"
   ]
  },
  {
   "cell_type": "code",
   "execution_count": 277,
   "metadata": {},
   "outputs": [],
   "source": [
    "def prepareHSlides(PhotoList):\n",
    "\n",
    "    out = []\n",
    "    for P in PhotoList:\n",
    "        out.append(createSlide([P]))\n",
    "        \n",
    "    return out"
   ]
  },
  {
   "cell_type": "code",
   "execution_count": 469,
   "metadata": {},
   "outputs": [],
   "source": [
    "file = 'b_lovely_landscapes'\n",
    "\n",
    "inputfile = '../data/'+ file +'.txt'\n",
    "outputfile = '../data/'+ file +'_out.txt'\n",
    "\n",
    "N = num_of_photos(inputfile)\n",
    "myPhotos, allTags = input_parser(inputfile)"
   ]
  },
  {
   "cell_type": "code",
   "execution_count": 470,
   "metadata": {},
   "outputs": [],
   "source": [
    "V = filterPhotos(myPhotos, \"V\")\n",
    "H = filterPhotos(myPhotos, \"H\")"
   ]
  },
  {
   "cell_type": "code",
   "execution_count": 471,
   "metadata": {},
   "outputs": [],
   "source": [
    "H.sort(key=lambda x: x.tagsNum, reverse=True)\n",
    "V.sort(key=lambda x: x.tagsNum, reverse=True)"
   ]
  },
  {
   "cell_type": "code",
   "execution_count": 472,
   "metadata": {},
   "outputs": [
    {
     "name": "stdout",
     "output_type": "stream",
     "text": [
      "80000\n",
      "0\n"
     ]
    }
   ],
   "source": [
    "print(len(H))\n",
    "print(len(V))"
   ]
  },
  {
   "cell_type": "code",
   "execution_count": 473,
   "metadata": {},
   "outputs": [],
   "source": [
    "HS = prepareHSlides(H.copy())"
   ]
  },
  {
   "cell_type": "code",
   "execution_count": 474,
   "metadata": {},
   "outputs": [],
   "source": [
    "VS = prepareVSlides(V.copy())"
   ]
  },
  {
   "cell_type": "code",
   "execution_count": 475,
   "metadata": {},
   "outputs": [
    {
     "name": "stdout",
     "output_type": "stream",
     "text": [
      "80000\n",
      "0\n",
      "80000\n"
     ]
    }
   ],
   "source": [
    "print(len(HS))\n",
    "print(len(VS))\n",
    "AllS = HS + VS\n",
    "print(len(AllS))"
   ]
  },
  {
   "cell_type": "code",
   "execution_count": 478,
   "metadata": {},
   "outputs": [
    {
     "data": {
      "application/vnd.jupyter.widget-view+json": {
       "model_id": "46f40c446a654cf39d5a624fba4e4de0",
       "version_major": 2,
       "version_minor": 0
      },
      "text/plain": [
       "HBox(children=(IntProgress(value=0, max=80000), HTML(value='')))"
      ]
     },
     "metadata": {},
     "output_type": "display_data"
    }
   ],
   "source": [
    "myFinal = genTransition(AllS.copy(), track=True, limit=2000)"
   ]
  },
  {
   "cell_type": "code",
   "execution_count": 479,
   "metadata": {},
   "outputs": [
    {
     "name": "stdout",
     "output_type": "stream",
     "text": [
      "31998\n"
     ]
    }
   ],
   "source": [
    "print(calcSlideshowScores(myFinal))"
   ]
  },
  {
   "cell_type": "code",
   "execution_count": 398,
   "metadata": {},
   "outputs": [],
   "source": [
    "output_slideshow(outputfile,myFinal)"
   ]
  },
  {
   "cell_type": "code",
   "execution_count": 450,
   "metadata": {},
   "outputs": [
    {
     "data": {
      "application/vnd.jupyter.widget-view+json": {
       "model_id": "1e7bec791ebd460a95b082f75a14d341",
       "version_major": 2,
       "version_minor": 0
      },
      "text/plain": [
       "HBox(children=(IntProgress(value=0, max=10), HTML(value='')))"
      ]
     },
     "metadata": {},
     "output_type": "display_data"
    },
    {
     "ename": "KeyboardInterrupt",
     "evalue": "",
     "output_type": "error",
     "traceback": [
      "\u001b[0;31m---------------------------------------------------------------------------\u001b[0m",
      "\u001b[0;31mKeyboardInterrupt\u001b[0m                         Traceback (most recent call last)",
      "\u001b[0;32m<ipython-input-450-dfc69bfce39c>\u001b[0m in \u001b[0;36m<module>\u001b[0;34m\u001b[0m\n\u001b[1;32m     27\u001b[0m     \u001b[0mAllS\u001b[0m \u001b[0;34m=\u001b[0m \u001b[0mHS\u001b[0m \u001b[0;34m+\u001b[0m \u001b[0mVS\u001b[0m\u001b[0;34m\u001b[0m\u001b[0;34m\u001b[0m\u001b[0m\n\u001b[1;32m     28\u001b[0m \u001b[0;34m\u001b[0m\u001b[0m\n\u001b[0;32m---> 29\u001b[0;31m     \u001b[0mmyFinal\u001b[0m \u001b[0;34m=\u001b[0m \u001b[0mgenTransition\u001b[0m\u001b[0;34m(\u001b[0m\u001b[0mAllS\u001b[0m\u001b[0;34m.\u001b[0m\u001b[0mcopy\u001b[0m\u001b[0;34m(\u001b[0m\u001b[0;34m)\u001b[0m\u001b[0;34m)\u001b[0m\u001b[0;34m\u001b[0m\u001b[0;34m\u001b[0m\u001b[0m\n\u001b[0m\u001b[1;32m     30\u001b[0m \u001b[0;34m\u001b[0m\u001b[0m\n\u001b[1;32m     31\u001b[0m     \u001b[0;32mif\u001b[0m \u001b[0mcalcSlideshowScores\u001b[0m\u001b[0;34m(\u001b[0m\u001b[0mmyFinal\u001b[0m\u001b[0;34m)\u001b[0m \u001b[0;34m>\u001b[0m \u001b[0mmyScore\u001b[0m\u001b[0;34m:\u001b[0m\u001b[0;34m\u001b[0m\u001b[0;34m\u001b[0m\u001b[0m\n",
      "\u001b[0;32m<ipython-input-447-c89da9bfe35f>\u001b[0m in \u001b[0;36mgenTransition\u001b[0;34m(SlideList)\u001b[0m\n\u001b[1;32m     17\u001b[0m             \u001b[0mlimit\u001b[0m \u001b[0;34m=\u001b[0m \u001b[0mlen\u001b[0m\u001b[0;34m(\u001b[0m\u001b[0mSlideList\u001b[0m\u001b[0;34m)\u001b[0m\u001b[0;34m\u001b[0m\u001b[0;34m\u001b[0m\u001b[0m\n\u001b[1;32m     18\u001b[0m \u001b[0;34m\u001b[0m\u001b[0m\n\u001b[0;32m---> 19\u001b[0;31m         \u001b[0mnextS\u001b[0m\u001b[0;34m,\u001b[0m \u001b[0mN\u001b[0m\u001b[0;34m,\u001b[0m \u001b[0mScore\u001b[0m \u001b[0;34m=\u001b[0m \u001b[0mfindNextBestSlide\u001b[0m\u001b[0;34m(\u001b[0m\u001b[0mcurrent\u001b[0m\u001b[0;34m,\u001b[0m \u001b[0mSlideList\u001b[0m\u001b[0;34m[\u001b[0m\u001b[0;36m0\u001b[0m\u001b[0;34m:\u001b[0m\u001b[0mlimit\u001b[0m\u001b[0;34m]\u001b[0m\u001b[0;34m)\u001b[0m\u001b[0;34m\u001b[0m\u001b[0;34m\u001b[0m\u001b[0m\n\u001b[0m\u001b[1;32m     20\u001b[0m         \u001b[0;31m#print(next,N,Score)\u001b[0m\u001b[0;34m\u001b[0m\u001b[0;34m\u001b[0m\u001b[0;34m\u001b[0m\u001b[0m\n\u001b[1;32m     21\u001b[0m \u001b[0;34m\u001b[0m\u001b[0m\n",
      "\u001b[0;32m<ipython-input-252-1f707d69b407>\u001b[0m in \u001b[0;36mfindNextBestSlide\u001b[0;34m(CurrentSlide, SlideList)\u001b[0m\n\u001b[1;32m      7\u001b[0m \u001b[0;34m\u001b[0m\u001b[0m\n\u001b[1;32m      8\u001b[0m     \u001b[0;32mfor\u001b[0m \u001b[0mi\u001b[0m \u001b[0;32min\u001b[0m \u001b[0mrange\u001b[0m\u001b[0;34m(\u001b[0m\u001b[0;36m0\u001b[0m\u001b[0;34m,\u001b[0m\u001b[0mN\u001b[0m\u001b[0;34m)\u001b[0m\u001b[0;34m:\u001b[0m\u001b[0;34m\u001b[0m\u001b[0;34m\u001b[0m\u001b[0m\n\u001b[0;32m----> 9\u001b[0;31m         \u001b[0mTestScore\u001b[0m \u001b[0;34m=\u001b[0m \u001b[0mcalcTransScores\u001b[0m\u001b[0;34m(\u001b[0m\u001b[0mCurrentSlide\u001b[0m\u001b[0;34m,\u001b[0m \u001b[0mSlideList\u001b[0m\u001b[0;34m[\u001b[0m\u001b[0mi\u001b[0m\u001b[0;34m]\u001b[0m\u001b[0;34m)\u001b[0m\u001b[0;34m\u001b[0m\u001b[0;34m\u001b[0m\u001b[0m\n\u001b[0m\u001b[1;32m     10\u001b[0m         \u001b[0;32mif\u001b[0m \u001b[0;34m(\u001b[0m\u001b[0mTestScore\u001b[0m \u001b[0;34m>\u001b[0m \u001b[0mScore\u001b[0m\u001b[0;34m)\u001b[0m\u001b[0;34m:\u001b[0m\u001b[0;34m\u001b[0m\u001b[0;34m\u001b[0m\u001b[0m\n\u001b[1;32m     11\u001b[0m             \u001b[0mBestSlide\u001b[0m \u001b[0;34m=\u001b[0m \u001b[0mSlideList\u001b[0m\u001b[0;34m[\u001b[0m\u001b[0mi\u001b[0m\u001b[0;34m]\u001b[0m\u001b[0;34m\u001b[0m\u001b[0;34m\u001b[0m\u001b[0m\n",
      "\u001b[0;32m<ipython-input-2-6895bb5376b1>\u001b[0m in \u001b[0;36mcalcTransScores\u001b[0;34m(slide1, slide2)\u001b[0m\n\u001b[1;32m     26\u001b[0m     \u001b[0mnumCommon\u001b[0m \u001b[0;34m=\u001b[0m \u001b[0mlen\u001b[0m\u001b[0;34m(\u001b[0m\u001b[0mslide1\u001b[0m\u001b[0;34m.\u001b[0m\u001b[0mtags\u001b[0m\u001b[0;34m.\u001b[0m\u001b[0mintersection\u001b[0m\u001b[0;34m(\u001b[0m\u001b[0mslide2\u001b[0m\u001b[0;34m.\u001b[0m\u001b[0mtags\u001b[0m\u001b[0;34m)\u001b[0m\u001b[0;34m)\u001b[0m\u001b[0;34m\u001b[0m\u001b[0;34m\u001b[0m\u001b[0m\n\u001b[1;32m     27\u001b[0m     \u001b[0mnumDiff1\u001b[0m \u001b[0;34m=\u001b[0m \u001b[0mlen\u001b[0m\u001b[0;34m(\u001b[0m\u001b[0mslide1\u001b[0m\u001b[0;34m.\u001b[0m\u001b[0mtags\u001b[0m\u001b[0;34m.\u001b[0m\u001b[0mdifference\u001b[0m\u001b[0;34m(\u001b[0m\u001b[0mslide2\u001b[0m\u001b[0;34m.\u001b[0m\u001b[0mtags\u001b[0m\u001b[0;34m)\u001b[0m\u001b[0;34m)\u001b[0m\u001b[0;34m\u001b[0m\u001b[0;34m\u001b[0m\u001b[0m\n\u001b[0;32m---> 28\u001b[0;31m     \u001b[0mnumDiff2\u001b[0m \u001b[0;34m=\u001b[0m \u001b[0mlen\u001b[0m\u001b[0;34m(\u001b[0m\u001b[0mslide2\u001b[0m\u001b[0;34m.\u001b[0m\u001b[0mtags\u001b[0m\u001b[0;34m.\u001b[0m\u001b[0mdifference\u001b[0m\u001b[0;34m(\u001b[0m\u001b[0mslide1\u001b[0m\u001b[0;34m.\u001b[0m\u001b[0mtags\u001b[0m\u001b[0;34m)\u001b[0m\u001b[0;34m)\u001b[0m\u001b[0;34m\u001b[0m\u001b[0;34m\u001b[0m\u001b[0m\n\u001b[0m\u001b[1;32m     29\u001b[0m \u001b[0;34m\u001b[0m\u001b[0m\n\u001b[1;32m     30\u001b[0m     \u001b[0;32mreturn\u001b[0m \u001b[0mmin\u001b[0m\u001b[0;34m(\u001b[0m\u001b[0mnumCommon\u001b[0m\u001b[0;34m,\u001b[0m \u001b[0mnumDiff1\u001b[0m\u001b[0;34m,\u001b[0m \u001b[0mnumDiff2\u001b[0m\u001b[0;34m)\u001b[0m\u001b[0;34m\u001b[0m\u001b[0;34m\u001b[0m\u001b[0m\n",
      "\u001b[0;31mKeyboardInterrupt\u001b[0m: "
     ]
    }
   ],
   "source": [
    "myScore = 0\n",
    "myCount = 10\n",
    "\n",
    "pbar = tqdm_notebook(total = myCount)\n",
    "\n",
    "file = 'b_lovely_landscapes'\n",
    "\n",
    "inputfile = '../data/'+ file +'.txt'\n",
    "outputfile = '../data/'+ file +'_out.txt'\n",
    "\n",
    "N = num_of_photos(inputfile)\n",
    "myPhotos, allTags = input_parser(inputfile)\n",
    "\n",
    "V = filterPhotos(myPhotos, \"V\")\n",
    "H = filterPhotos(myPhotos, \"H\")\n",
    "\n",
    "H.sort(key=lambda x: x.tagsNum, reverse=True)\n",
    "V.sort(key=lambda x: x.tagsNum, reverse=True)\n",
    "\n",
    "\n",
    "for i in range(0,myCount):\n",
    "    pbar.update(1)\n",
    "\n",
    "    HS = prepareHSlides(H.copy())\n",
    "    VS = prepareVSlides(V.copy())\n",
    "\n",
    "    AllS = HS + VS\n",
    "    \n",
    "    myFinal = genTransition(AllS.copy())\n",
    "\n",
    "    if calcSlideshowScores(myFinal) > myScore: \n",
    "        myScore = calcSlideshowScores(myFinal)\n",
    "        output_slideshow(outputfile,myFinal)\n",
    "        print(\"Better Score Found in {} - {}\".format(i,myScore)) \n",
    "\n",
    "pbar.close()"
   ]
  },
  {
   "cell_type": "code",
   "execution_count": 261,
   "metadata": {},
   "outputs": [],
   "source": [
    "output_slideshow(outputfile,myFinal)"
   ]
  },
  {
   "cell_type": "code",
   "execution_count": 146,
   "metadata": {},
   "outputs": [],
   "source": [
    "def groupTag(PhotoList, Num):\n",
    "    \n",
    "    selected = []\n",
    "    remaining = []\n",
    "    myList = PhotoList.copy()\n",
    "    iterList = iter(myList[0:10])\n",
    "\n",
    "    \n",
    "    while True:\n",
    "        try:\n",
    "            photo = next(iterList)\n",
    "            print(photo.photoID)\n",
    "            selected.append(photo)\n",
    "            myList.remove(photo)\n",
    "\n",
    "            while len(selected) < Num:\n",
    "                newphoto = random.choice(myList[10:])\n",
    "                myList.remove(newphoto)\n",
    "                similarity = comparePhoto(photo, newphoto)\n",
    "\n",
    "                if (similarity > 0.1 and similarity < 0.9):\n",
    "                    selected.append(newphoto)\n",
    "                    print(photo.photoID, newphoto.photoID, comparePhoto(photo, newphoto))\n",
    "                    \n",
    "                if len(myList) == 0:\n",
    "                    break\n",
    "             \n",
    "            if len(selected) == Num:\n",
    "                remaining == myList\n",
    "                break\n",
    "                    \n",
    "        except StopIteration:\n",
    "            break\n",
    "            \n",
    "    return selected, remaining\n",
    "    "
   ]
  },
  {
   "cell_type": "code",
   "execution_count": null,
   "metadata": {},
   "outputs": [],
   "source": [
    "import collections\n",
    "allTagsCount = collections.Counter(allTags)\n",
    "sorted(allTagsCount.items(), key=lambda x: x[1], reverse=True)"
   ]
  },
  {
   "cell_type": "code",
   "execution_count": null,
   "metadata": {},
   "outputs": [],
   "source": [
    "allTagsCount"
   ]
  },
  {
   "cell_type": "code",
   "execution_count": null,
   "metadata": {},
   "outputs": [],
   "source": [
    "L1 = H[100].tags\n",
    "L2 = H[101].tags\n",
    "\n",
    "print(sorted(L1))\n",
    "print(sorted(L2))\n",
    "\n",
    "get_jaccard_sim(L1,L2)"
   ]
  },
  {
   "cell_type": "code",
   "execution_count": null,
   "metadata": {},
   "outputs": [],
   "source": [
    "H = filterPhotos(myPhotos, \"H\")"
   ]
  },
  {
   "cell_type": "code",
   "execution_count": null,
   "metadata": {},
   "outputs": [],
   "source": []
  },
  {
   "cell_type": "code",
   "execution_count": null,
   "metadata": {},
   "outputs": [],
   "source": []
  },
  {
   "cell_type": "code",
   "execution_count": null,
   "metadata": {},
   "outputs": [],
   "source": [
    "myFinal"
   ]
  },
  {
   "cell_type": "code",
   "execution_count": null,
   "metadata": {},
   "outputs": [],
   "source": [
    "myPhoto1 = photo('0','H',['A','B'])\n",
    "myPhoto2 = photo('1','V',['B','C'])\n",
    "myPhoto3 = photo('2','V',['C','D'])\n",
    "\n",
    "mySlideList = [mySlide1,mySlide2]"
   ]
  },
  {
   "cell_type": "code",
   "execution_count": null,
   "metadata": {},
   "outputs": [],
   "source": [
    "myPhotos[0].orient"
   ]
  },
  {
   "cell_type": "code",
   "execution_count": null,
   "metadata": {},
   "outputs": [],
   "source": [
    "T = getAllTags(myPhotos)"
   ]
  },
  {
   "cell_type": "code",
   "execution_count": null,
   "metadata": {},
   "outputs": [],
   "source": [
    "np\n",
    "\n",
    "mySlide1 = createSlide([H[3]])\n",
    "\n",
    "mySlide2 = createSlide([V[2],V[5]])\n",
    "\n",
    "\n",
    "calcTransScores(mySlide1,mySlide2)"
   ]
  },
  {
   "cell_type": "code",
   "execution_count": null,
   "metadata": {},
   "outputs": [],
   "source": [
    "def generateNext(photos, myList, myLast):\n",
    "    \n",
    "    myScore = 0\n",
    "    myNext = []\n",
    "    acceptScore = 2\n",
    "    myTryList = myList.copy()\n",
    "    \n",
    "    while myScore < acceptScore:\n",
    "        N = random.choice(myTryList)\n",
    "        myTryList.remove(N)\n",
    "        \n",
    "        Last_S = createSlide([photos[myLast]])\n",
    "        Next_S = createSlide([photos[N]])\n",
    "        \n",
    "        myScore = calcTransScores(Last_S, Next_S)\n",
    "        \n",
    "        if  myScore > acceptScore - 1:\n",
    "            myNext.append(Next_S)\n",
    "            myList.remove(N)\n",
    "            break\n",
    "        \n",
    "        if len(myTryList) == 0:\n",
    "            break\n",
    "            \n",
    "    return myNext, myList, N \n",
    "\n",
    "\n",
    "def generateFirst2(photos):\n",
    "    \n",
    "    myList = list(range(0,len(photos)))\n",
    "    myScore = 0\n",
    "    myFirst2 = []\n",
    "    acceptScore = 3\n",
    "    \n",
    "    while myScore < acceptScore:\n",
    "        P1 = random.choice(myList)\n",
    "        P2 = random.choice(myList)\n",
    "        while P1 == P2:\n",
    "            P2 = random.choice(myList)\n",
    "        S1 = createSlide([photos[P1]])\n",
    "        S2 = createSlide([photos[P2]])\n",
    "    \n",
    "        myScore = calcTransScores(S1, S2)\n",
    "        \n",
    "        if  myScore > acceptScore - 1:\n",
    "            myFirst2.append(S1)\n",
    "            myFirst2.append(S2)\n",
    "            myList.remove(P1)\n",
    "            myList.remove(P2)\n",
    "                        \n",
    "    return myFirst2, myList, P1, P2\n",
    "        "
   ]
  },
  {
   "cell_type": "code",
   "execution_count": null,
   "metadata": {},
   "outputs": [],
   "source": [
    "First2, myRemaining, myFirst, myLast = generateFirst2(H)\n"
   ]
  },
  {
   "cell_type": "code",
   "execution_count": null,
   "metadata": {},
   "outputs": [],
   "source": [
    "type(First2)"
   ]
  },
  {
   "cell_type": "code",
   "execution_count": null,
   "metadata": {},
   "outputs": [],
   "source": [
    "myNext, myRemaining, myLast = generateNext(H, myRemaining, myLast)"
   ]
  },
  {
   "cell_type": "code",
   "execution_count": null,
   "metadata": {},
   "outputs": [],
   "source": [
    "myFinal = generateSlides(H)"
   ]
  },
  {
   "cell_type": "code",
   "execution_count": null,
   "metadata": {},
   "outputs": [],
   "source": [
    "myFinal"
   ]
  },
  {
   "cell_type": "code",
   "execution_count": null,
   "metadata": {},
   "outputs": [],
   "source": [
    "myFinal = list(filter(None, myFinal)) # fastest"
   ]
  },
  {
   "cell_type": "code",
   "execution_count": null,
   "metadata": {},
   "outputs": [],
   "source": [
    "output_slideshow('../data/outputTest.txt',myFinal)"
   ]
  },
  {
   "cell_type": "code",
   "execution_count": null,
   "metadata": {},
   "outputs": [],
   "source": []
  }
 ],
 "metadata": {
  "kernelspec": {
   "display_name": "Python 3",
   "language": "python",
   "name": "python3"
  },
  "language_info": {
   "codemirror_mode": {
    "name": "ipython",
    "version": 3
   },
   "file_extension": ".py",
   "mimetype": "text/x-python",
   "name": "python",
   "nbconvert_exporter": "python",
   "pygments_lexer": "ipython3",
   "version": "3.7.1"
  }
 },
 "nbformat": 4,
 "nbformat_minor": 2
}
