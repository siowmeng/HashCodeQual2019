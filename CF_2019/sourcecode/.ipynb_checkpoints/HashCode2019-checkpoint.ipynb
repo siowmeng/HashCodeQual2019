{
 "cells": [
  {
   "cell_type": "code",
   "execution_count": 2,
   "metadata": {},
   "outputs": [],
   "source": [
    "import numpy as np"
   ]
  },
  {
   "cell_type": "code",
   "execution_count": 11,
   "metadata": {},
   "outputs": [],
   "source": [
    "def num_of_photos(filename):\n",
    "    \"\"\"\n",
    "    returns:\n",
    "    N = Number of Photos\n",
    "    \"\"\"\n",
    "    lines = open(filename).readlines()\n",
    "    N = int(lines[0].split()[0])\n",
    "    \n",
    "    return N"
   ]
  },
  {
   "cell_type": "code",
   "execution_count": 44,
   "metadata": {},
   "outputs": [],
   "source": [
    "def output_slideshow(filename, slide_list):\n",
    "    \"\"\"\n",
    "    returns: Output File given a list of slide class\n",
    "    \"\"\"\n",
    "    \"\"\"Writes an output file with the required format.\"\"\"\n",
    "    with open(filename, 'w') as f:\n",
    "\n",
    "        f.write(f\"{len(slide_list)}\\n\")\n",
    "\n",
    "        for slide in slide_list:\n",
    "            if slide.slideType == 'V':\n",
    "                V1, V2 = slide.photos\n",
    "                f.write(f\"{V1.photoID} {V2.photoID}\\n\")\n",
    "            else:\n",
    "                H = slide.photos[0]\n",
    "                f.write(f\"{H.photoID}\\n\")"
   ]
  },
  {
   "cell_type": "code",
   "execution_count": null,
   "metadata": {},
   "outputs": [],
   "source": []
  },
  {
   "cell_type": "code",
   "execution_count": 12,
   "metadata": {},
   "outputs": [],
   "source": [
    "N = num_of_photos('../data/c_memorable_moments.txt')"
   ]
  },
  {
   "cell_type": "code",
   "execution_count": 13,
   "metadata": {},
   "outputs": [
    {
     "data": {
      "text/plain": [
       "1000"
      ]
     },
     "execution_count": 13,
     "metadata": {},
     "output_type": "execute_result"
    }
   ],
   "source": [
    "N"
   ]
  },
  {
   "cell_type": "code",
   "execution_count": 36,
   "metadata": {},
   "outputs": [],
   "source": [
    "# Input Class: List of Photos\n",
    "class photo():\n",
    "    \n",
    "    def __init__(self, photoID, orient, tags):\n",
    "        \n",
    "        self.photoID = photoID\n",
    "        self.orient = orient\n",
    "        self.tags = tags\n",
    "\n",
    "# Output Class: List of Slides\n",
    "class slide():\n",
    "    \n",
    "    def __init__(self, slideType, photos):\n",
    "        \n",
    "        self.slideType = slideType\n",
    "        self.photos = photos\n",
    "        \n",
    "        self.tags = set([])\n",
    "        \n",
    "        for photo in self.photos:\n",
    "            self.tags = self.tags.union(photo.tags)\n",
    "\n",
    "def calcTransScores(slide1, slide2):\n",
    "    \n",
    "    numCommon = len(slide1.tags.intersection(slide2.tags))\n",
    "    numDiff1 = len(slide1.tags.difference(slide2.tags))\n",
    "    numDiff2 = len(slide2.tags.difference(slide1.tags))\n",
    "    \n",
    "    return min(numCommon, numDiff1, numDiff2)\n",
    "\n",
    "def calcSlideshowScores(listSlides):\n",
    "    \n",
    "    prevSlide = None\n",
    "    currSlide = None\n",
    "    \n",
    "    totalScore = 0\n",
    "    for s in listSlides:\n",
    "        prevSlide = currSlide\n",
    "        currSlide = s\n",
    "        \n",
    "        if prevSlide == None:\n",
    "            continue\n",
    "        \n",
    "        totalScore += calcTransScores(prevSlide, currSlide)\n",
    "    \n",
    "    return totalScore"
   ]
  },
  {
   "cell_type": "code",
   "execution_count": 37,
   "metadata": {},
   "outputs": [],
   "source": [
    "myPhoto1 = photo('0','H',['A','B'])\n",
    "myPhoto2 = photo('1','V',['B','C'])\n",
    "myPhoto3 = photo('2','V',['C','D'])\n",
    "\n",
    "mySlide1 = slide('H',[myPhoto1])\n",
    "mySlide2 = slide('V',[myPhoto2,myPhoto3])\n",
    "\n",
    "mySlideList = [mySlide1,mySlide2]"
   ]
  },
  {
   "cell_type": "code",
   "execution_count": 45,
   "metadata": {},
   "outputs": [
    {
     "name": "stdout",
     "output_type": "stream",
     "text": [
      "H\n",
      "<class '__main__.photo'>\n",
      "V\n"
     ]
    }
   ],
   "source": [
    "output_slideshow('../data/outputTest.txt',mySlideList)"
   ]
  },
  {
   "cell_type": "code",
   "execution_count": null,
   "metadata": {},
   "outputs": [],
   "source": []
  }
 ],
 "metadata": {
  "kernelspec": {
   "display_name": "Python 3",
   "language": "python",
   "name": "python3"
  },
  "language_info": {
   "codemirror_mode": {
    "name": "ipython",
    "version": 3
   },
   "file_extension": ".py",
   "mimetype": "text/x-python",
   "name": "python",
   "nbconvert_exporter": "python",
   "pygments_lexer": "ipython3",
   "version": "3.7.1"
  }
 },
 "nbformat": 4,
 "nbformat_minor": 2
}
