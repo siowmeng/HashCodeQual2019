{
 "cells": [
  {
   "cell_type": "code",
   "execution_count": 2,
   "metadata": {},
   "outputs": [],
   "source": [
    "import numpy as np"
   ]
  },
  {
   "cell_type": "code",
   "execution_count": 36,
   "metadata": {},
   "outputs": [],
   "source": [
    "# Input Class: List of Photos\n",
    "class photo():\n",
    "    \n",
    "    def __init__(self, photoID, orient, tags):\n",
    "        \n",
    "        self.photoID = photoID\n",
    "        self.orient = orient\n",
    "        self.tags = tags\n",
    "\n",
    "# Output Class: List of Slides\n",
    "class slide():\n",
    "    \n",
    "    def __init__(self, slideType, photos):\n",
    "        \n",
    "        self.slideType = slideType\n",
    "        self.photos = photos\n",
    "        \n",
    "        self.tags = set([])\n",
    "        \n",
    "        for photo in self.photos:\n",
    "            self.tags = self.tags.union(photo.tags)\n",
    "\n",
    "def calcTransScores(slide1, slide2):\n",
    "    \n",
    "    numCommon = len(slide1.tags.intersection(slide2.tags))\n",
    "    numDiff1 = len(slide1.tags.difference(slide2.tags))\n",
    "    numDiff2 = len(slide2.tags.difference(slide1.tags))\n",
    "    \n",
    "    return min(numCommon, numDiff1, numDiff2)\n",
    "\n",
    "def calcSlideshowScores(listSlides):\n",
    "    \n",
    "    prevSlide = None\n",
    "    currSlide = None\n",
    "    \n",
    "    totalScore = 0\n",
    "    for s in listSlides:\n",
    "        prevSlide = currSlide\n",
    "        currSlide = s\n",
    "        \n",
    "        if prevSlide == None:\n",
    "            continue\n",
    "        \n",
    "        totalScore += calcTransScores(prevSlide, currSlide)\n",
    "    \n",
    "    return totalScore"
   ]
  },
  {
   "cell_type": "code",
   "execution_count": 49,
   "metadata": {},
   "outputs": [],
   "source": [
    "def num_of_photos(filename):\n",
    "   lines = open(filename).readlines()\n",
    "   N = int(lines[0].split()[0])\n",
    "\n",
    "   return N\n",
    "\n",
    "def input_parser(filepath):\n",
    "    lines = open(filepath).readlines()\n",
    "    i = 0\n",
    "    photos = []\n",
    "    for line in lines:\n",
    "        if i > 0:\n",
    "            photo_info = line.split(' ')\n",
    "            orientation = photo_info[0]\n",
    "            tag_num = int(photo_info[1])\n",
    "            tags = []\n",
    "            for j in range(tag_num):\n",
    "                tags.append(photo_info[2+j].rstrip())\n",
    "            photo_id = i - 1\n",
    "            photos.append(photo(photoID=photo_id,orient=orientation,tags = tags))\n",
    "        i += 1\n",
    "    return photos"
   ]
  },
  {
   "cell_type": "code",
   "execution_count": 47,
   "metadata": {},
   "outputs": [],
   "source": [
    "def output_slideshow(filename, slide_list):\n",
    "    \"\"\"\n",
    "    returns: Output File given a list of slide class\n",
    "    \"\"\"\n",
    "    \"\"\"Writes an output file with the required format.\"\"\"\n",
    "    with open(filename, 'w') as f:\n",
    "\n",
    "        f.write(f\"{len(slide_list)}\\n\")\n",
    "\n",
    "        for slide in slide_list:\n",
    "            if slide.slideType == 'V':\n",
    "                V1, V2 = slide.photos\n",
    "                f.write(f\"{V1.photoID} {V2.photoID}\\n\")\n",
    "            else:\n",
    "                H = slide.photos[0]\n",
    "                f.write(f\"{H.photoID}\\n\")"
   ]
  },
  {
   "cell_type": "code",
   "execution_count": null,
   "metadata": {},
   "outputs": [],
   "source": []
  },
  {
   "cell_type": "code",
   "execution_count": 12,
   "metadata": {},
   "outputs": [],
   "source": [
    "N = num_of_photos('../data/c_memorable_moments.txt')"
   ]
  },
  {
   "cell_type": "code",
   "execution_count": 50,
   "metadata": {},
   "outputs": [],
   "source": [
    "myPhotos = input_parser('../data/c_memorable_moments.txt')"
   ]
  },
  {
   "cell_type": "code",
   "execution_count": 37,
   "metadata": {},
   "outputs": [],
   "source": [
    "myPhoto1 = photo('0','H',['A','B'])\n",
    "myPhoto2 = photo('1','V',['B','C'])\n",
    "myPhoto3 = photo('2','V',['C','D'])\n",
    "\n",
    "\n",
    "\n",
    "mySlideList = [mySlide1,mySlide2]"
   ]
  },
  {
   "cell_type": "code",
   "execution_count": 48,
   "metadata": {},
   "outputs": [],
   "source": [
    "output_slideshow('../data/outputTest.txt',mySlideList)"
   ]
  },
  {
   "cell_type": "code",
   "execution_count": 56,
   "metadata": {},
   "outputs": [
    {
     "data": {
      "text/plain": [
       "'V'"
      ]
     },
     "execution_count": 56,
     "metadata": {},
     "output_type": "execute_result"
    }
   ],
   "source": [
    "myPhotos[0].orient"
   ]
  },
  {
   "cell_type": "code",
   "execution_count": 57,
   "metadata": {},
   "outputs": [],
   "source": [
    "def filterPhotos(photos, orient):\n",
    "    out = []\n",
    "    for photo in photos:\n",
    "        if photo.orient == orient:\n",
    "            out.append(photo)\n",
    "    return out"
   ]
  },
  {
   "cell_type": "code",
   "execution_count": 63,
   "metadata": {},
   "outputs": [],
   "source": [
    "def createSlide(photos):\n",
    "    if len(photos) == 1:\n",
    "        out = slide('H', photos)\n",
    "    else:\n",
    "        out = slide('V', photos)\n",
    "    return out"
   ]
  },
  {
   "cell_type": "code",
   "execution_count": 62,
   "metadata": {},
   "outputs": [],
   "source": [
    "V = filterPhotos(myPhotos, \"V\")\n",
    "H = filterPhotos(myPhotos, \"H\")"
   ]
  },
  {
   "cell_type": "code",
   "execution_count": 74,
   "metadata": {},
   "outputs": [],
   "source": [
    "def getAllTags(photos):\n",
    "    out = []\n",
    "    for photo in photos:\n",
    "        for tag in photo.tags:\n",
    "            out.append(tag)\n",
    "    return out"
   ]
  },
  {
   "cell_type": "code",
   "execution_count": 75,
   "metadata": {},
   "outputs": [],
   "source": [
    "T = getAllTags(myPhotos)"
   ]
  },
  {
   "cell_type": "code",
   "execution_count": 77,
   "metadata": {},
   "outputs": [
    {
     "name": "stdout",
     "output_type": "stream",
     "text": [
      "Counter({'t8b1': 20, 'tjb1': 20, 't6c': 20, 't81': 20, 't001': 20, 'td7': 20, 't0c': 20, 'tqz1': 20, 't351': 20, 't2m1': 20, 'tld1': 20, 'tt': 20, 't4t1': 20, 't882': 20, 'tn3': 20, 't7d1': 20, 'tr51': 20, 't2x1': 20, 'tk6': 20, 'tc61': 20, 't1': 20, 'tm9': 20, 'tdd1': 20, 'tz9': 20, 'tr5': 20, 't76': 20, 't471': 20, 'tzw': 20, 't762': 20, 'tj82': 20, 'tr42': 20, 't692': 20, 'th8': 20, 'ttb2': 20, 'tr02': 20, 'tnl': 20, 't7n1': 20, 'th61': 20, 't991': 20, 't711': 20, 'tcl': 20, 't0l1': 20, 't6t': 20, 't622': 20, 'tm7': 20, 't86': 20, 'tt11': 20, 'thc1': 20, 'tdp1': 20, 'tg7': 20, 't452': 20, 'tz21': 20, 'tvh': 20, 'tpd': 20, 't13': 20, 'tr82': 20, 'thn': 20, 'thb1': 20, 'tv1': 20, 'tvr': 20, 't3g': 20, 'tvs1': 20, 'tqc': 20, 'tv9': 20, 'tlz1': 20, 'tb02': 20, 'tdn1': 20, 'tz02': 20, 'tf2': 20, 'tk22': 20, 't1s': 20, 't74': 20, 'tzt1': 20, 'tq91': 20, 'tf42': 20, 't2m': 20, 't9d1': 20, 'tz91': 20, 'tjr1': 20, 'tgc': 20, 'tpr1': 20, 'tn12': 20, 'tx71': 20, 'thh1': 20, 'tdp': 20, 't5w1': 20, 'tgb2': 20, 'th1': 20, 'txf1': 20, 't221': 20, 'tpb2': 20, 't3r1': 20, 'tkc1': 20, 't412': 20, 'tbv': 20, 'tv32': 20, 't7q1': 20, 't3k': 20, 't34': 20, 'tm81': 20, 't242': 20, 'tjs1': 20, 't2t': 20, 't3c1': 20, 'tb5': 20, 'tdb2': 20, 'thp1': 20, 'tgt1': 20, 'tqq': 20, 'thc': 20, 'tkr1': 20, 'tzk1': 20, 't4r': 20, 'tgp1': 20, 't4x': 20, 'tqb2': 20, 'tfr1': 20, 't8l': 20, 'tx41': 20, 'tzn': 20, 'td': 20, 'twz': 20, 'tpg1': 20, 'tlm': 20, 'tpc': 20, 'tpc1': 20, 'tgn': 20, 'trr': 20, 'tr1': 20, 'tvc1': 20, 't19': 20, 'tjt': 20, 't181': 20, 't0j1': 20, 't7p1': 20, 't8t1': 20, 'tn4': 20, 'tnj': 20, 'tkf': 20, 'tl72': 20, 't141': 20, 't011': 20, 'tht1': 20, 'tnf': 20, 'tdg': 20, 'tbm': 20, 't002': 20, 'th42': 20, 't7d': 20, 'tpn1': 20, 'tj41': 20, 't462': 20, 'trt': 20, 't9k': 20, 'tn81': 20, 't532': 20, 't8l1': 20, 't5f1': 20, 't38': 20, 't5v1': 20, 'tw11': 20, 't0f1': 20, 't55': 20, 't4d2': 20, 'td62': 20, 'tcv1': 20, 'tb7': 20, 'tt82': 20, 'tfc2': 20, 'tq81': 20, 't1w': 20, 'tt21': 20, 't6z': 20, 't511': 20, 'tbj': 20, 't3w': 20, 'td41': 20, 'tsw': 20, 't33': 20, 'tmf': 20, 'tmj1': 20, 't861': 20, 'tqv': 20, 't2': 20, 'tn51': 20, 'tpb': 19, 't6r1': 19, 't332': 19, 't291': 19, 'twg1': 19, 't561': 19, 'tcc': 19, 'tfj': 19, 't0t1': 19, 'tf01': 19, 't1v1': 19, 't3q': 19, 't361': 19, 'tzg': 19, 'tq01': 19, 'ttw1': 19, 'tjj1': 19, 'trk': 19, 't3m': 19, 'thg1': 19, 'tvk': 19, 't512': 19, 't8h1': 19, 'tl6': 19, 'tfz1': 19, 'tg71': 19, 't4x1': 19, 'tww': 19, 't3p': 19, 'thr': 19, 't4d1': 19, 't161': 19, 't881': 19, 'tz61': 19, 'tc21': 19, 'tz22': 19, 'tm42': 19, 'tdg1': 18, 'tq52': 18, 'th11': 18, 'ttb1': 18, 't6d2': 17, 'tw52': 10, 'trn': 10, 'tc51': 10, 'tms': 10, 'tl3': 10, 'twd1': 10, 'tqp1': 10, 't21': 10, 't9q1': 10, 'tsj1': 10, 'tv81': 10, 'ttc1': 10, 't771': 10, 't3b1': 10, 'tbn1': 10, 't9c1': 10, 'trx': 10, 't5p1': 10, 'tdm1': 10, 'ttc': 10, 'tl51': 10, 't3t': 10, 't911': 10, 't391': 10, 'tv8': 10, 'twn1': 10, 't4q1': 10, 'tsr1': 10, 'tb62': 10, 'tg62': 10, 't9z1': 10, 'tlb1': 10, 'tc5': 10, 'tr2': 10, 'tdz1': 10, 't5r1': 10, 'tsv1': 10, 't4w': 10, 'tvc2': 10, 't0g1': 10, 'tsq1': 10, 'tq3': 10, 'ttm': 10, 'tp62': 10, 'txg': 10, 'tvf': 10, 'tvb1': 10, 'tj91': 10, 'tw': 10, 'tjc': 10, 'tx1': 10, 't6r': 10, 'tk31': 10, 'tdn': 10, 'ts92': 10, 't1q': 10, 'tlg1': 10, 't4c2': 10, 't4m1': 10, 't6w': 10, 't4g1': 10, 't9s1': 10, 't0b1': 10, 'tm02': 10, 't6z1': 10, 'tc2': 10, 't7w': 10, 'tsg': 10, 'trq1': 10, 'tqz': 10, 'td32': 10, 'tv7': 10, 't6h': 10, 't1g': 10, 't88': 10, 't7k1': 10, 't1l1': 10, 'tls1': 10, 't921': 10, 'tkt1': 10, 't78': 10, 'tt9': 10, 'tbd1': 10, 't1j1': 10, 'tf71': 10, 'tcf': 10, 'tjl': 10, 'tw81': 10, 't0s': 10, 'tv02': 10, 'tf21': 10, 'trv': 10, 'tgj': 10, 'tqx': 10, 'thk1': 10, 't651': 10, 't6x': 10, 'tv': 10, 'tqh': 10, 'thv': 10, 'tqs': 10, 'tf12': 10, 'tz42': 10, 't8w': 10, 't63': 10, 'tfb1': 10, 'tx51': 10, 'tqf': 10, 'tx01': 10, 't032': 10, 'tjw1': 10, 'tlr1': 10, 'tqv1': 10, 'tt4': 10, 't232': 10, 'tm1': 10, 't212': 10, 't7v': 10, 'td82': 10, 't381': 10, 'tl9': 10, 't9h': 10, 'tt72': 10, 'tqk1': 10, 'tl31': 10, 'ttk1': 10, 'tm52': 10, 'tst': 10, 'tss1': 10, 'tj8': 10, 't672': 10, 'thz': 10, 'tnm': 10, 'tf22': 10, 't0h1': 10, 't481': 10, 't7j1': 10, 't8n': 10, 'tsq': 10, 't9j1': 10, 'ttd': 10, 't8h': 10, 't7c2': 10, 'tjx1': 10, 'tcw1': 10, 'tzm1': 10, 't3x1': 10, 't342': 10, 't3j1': 10, 'tz82': 10, 'tzr': 10, 'tk82': 10, 't0w1': 10, 'tc11': 10, 'tbv1': 10, 'td51': 10, 'tdv': 10, 't3p1': 10, 't64': 10, 't311': 10, 't802': 10, 'tt6': 10, 'ttz1': 10, 'tsp': 10, 't8j': 10, 'tvb': 10, 'tzl': 10, 'tcn1': 10, 'trm': 10, 'tts1': 10, 'tp21': 10, 't9c': 10, 't131': 10, 'tc6': 10, 'tbz1': 10, 't031': 10, 't9x1': 10, 't66': 10, 'tp41': 10, 'tn71': 10, 't3q1': 10, 'tk61': 10, 't621': 10, 't4n1': 10, 'tft1': 9, 'tv61': 9, 't82': 9, 't572': 9, 't691': 9, 't39': 9, 'tmn': 9, 'tq21': 9, 'trc1': 9, 'tft': 9, 'tmz1': 3, 'tg6': 3, 'tzb1': 3, 'tgr': 3, 'tg11': 3, 't822': 3, 't071': 3, 'tfg1': 3, 'tlb': 3, 't14': 3, 'tjp': 3, 't3x': 3, 'thd': 3, 'tw6': 3, 'ttx1': 3, 'tp72': 3, 't3d1': 3, 't721': 3, 'twc2': 3, 't3b': 3, 't0n1': 3, 't4t': 3, 't1n1': 3, 't9n1': 3, 'tl21': 3, 'tf7': 3, 't271': 3, 't1c': 3, 'tnb2': 3, 't8q': 3, 't112': 3, 'trh1': 3, 'tgb1': 3, 'thr1': 3, 't402': 3, 'tp82': 3, 't952': 3, 'ttj': 3, 'tx7': 3, 't661': 3, 'tnl1': 3, 'tbb1': 3, 'tf9': 3, 't4v1': 3, 'tkg1': 3, 'tx2': 3, 'tbb2': 3, 'tr21': 3, 't7j': 3, 'tbs': 3, 'tsb2': 3, 'tl42': 3, 'tw22': 3, 'tnr': 3, 't35': 3, 'tck': 3, 'tq32': 3, 'tdr': 3, 'tq31': 3, 'tr92': 3, 't531': 3, 'tp7': 3, 'tj9': 3, 'trs1': 3, 't091': 3, 'trx1': 3, 'tb9': 3, 'tmd': 3, 'tkv1': 3, 't682': 3, 't31': 3, 'tl2': 3, 'tbc1': 3, 'tp12': 3, 'tvn1': 3, 'tb11': 3, 'tq62': 3, 'tcl1': 3, 't241': 3, 'tx4': 3, 'tqb': 3, 'tp32': 3, 't4f': 3, 'twj1': 3, 'tsv': 3, 'ttt': 3, 't65': 3, 'tt12': 3, 'tnv': 3, 'tpx': 3, 't3n': 3, 'tmc': 3, 'th82': 3, 'tsl': 3, 't912': 3, 't12': 3, 'tsw1': 3, 'tsm': 3, 'ttf1': 3, 'tj4': 3, 'tx52': 3, 'tnp1': 3, 't971': 3, 'tjn1': 3, 'tsh1': 3, 't0g': 3, 'tnt': 3, 'tvl1': 3, 't58': 3, 't541': 3, 'tb01': 3, 't5j': 3, 'tn91': 3, 'th5': 3, 't491': 3, 't09': 3, 'twb2': 3, 'tx12': 3, 'tzq': 3, 't851': 3, 't41': 3, 'th52': 3, 'twp1': 3, 't6n1': 3, 'tfk1': 3, 't021': 3, 't9w1': 3, 'ttn': 3, 'tl': 3, 'ttr': 3, 'txm': 3, 'tmt1': 3, 't931': 3, 't2c1': 3, 't6k1': 3, 'tpp1': 3, 'tpz': 3, 't602': 3, 'tx': 3, 'tdq1': 3, 'tvq1': 3, 't0b': 3, 'tzb': 3, 't2c': 3, 't2n': 3, 'tst1': 3, 't11': 3, 't4g': 3, 'tkq': 3, 'tx82': 3, 'tgz': 3, 'tct': 3, 'tp6': 3, 't192': 3, 'tv21': 3, 't2r1': 3, 't062': 3, 'txz': 3, 'tlc1': 3, 'tmr1': 3, 't59': 3, 'tgj1': 3, 't302': 3, 'tn22': 3, 'tcn': 3, 't3h': 3, 'tq12': 3, 'tz5': 3, 't4c1': 3, 'thq': 3, 't051': 3, 'txb': 3, 'tjq1': 3, 'tb12': 3, 't792': 3, 't6d': 3, 't431': 3, 'tsb1': 3, 't082': 3, 't951': 3, 'thj1': 3, 'tk51': 3, 'tl71': 3, 't7p': 3, 'trz1': 3, 't6j1': 3, 'tks1': 3, 'tgn1': 3, 'td4': 3, 'tvv1': 3, 'twz1': 3, 'tb41': 3, 'tcj': 3, 'tbf1': 3, 't8x1': 3, 'ts5': 3, 'tlk': 3, 't6k': 3, 'tgb': 3, 'tq92': 3, 'tmz': 3, 't942': 3, 'tc81': 3, 'tp5': 3, 't5c': 3, 't6h1': 3, 'tj3': 3, 't5j1': 3, 'tq02': 3, 't0k': 3, 'tt8': 3, 'tkf1': 3, 't3l': 3, 'tlj': 3, 't5g1': 3, 't2d': 3, 'ts2': 3, 'tp3': 3, 't2g1': 3, 't8m': 3, 't6f': 3, 'tx72': 3, 'tw51': 3, 'tsb': 3, 'td92': 3, 't252': 3, 't4h1': 3, 'tfq1': 3, 't791': 3, 'ts22': 3, 'trt1': 3, 't3c': 3, 'tkj': 3, 'tfc1': 3, 't292': 3, 't6q1': 3, 'tb21': 3, 'tbq1': 3, 'tnh': 3, 'tcq': 3, 't5g': 3, 't5c2': 3, 'ttl': 3, 't4b1': 3, 't072': 3, 't2p': 3, 'ts51': 3, 't1p1': 3, 'tpc2': 3, 't8': 3, 'tzn1': 3, 'tc72': 3, 'tm3': 3, 'tqk': 3, 'ts31': 3, 'txj1': 3, 'txq': 3, 't5s': 3, 't5v': 3, 't8c2': 3, 'td22': 3, 'tjj': 3, 'th01': 3, 't7h': 3, 't0l': 3, 'tq7': 3, 't5s1': 3, 'ts6': 3, 'tvz': 3, 'tjr': 3, 'tvm1': 3, 'tg12': 3, 'ttg1': 3, 'tkp': 3, 'tsz': 3, 'tf91': 3, 'tkb2': 3, 'ttc2': 3, 't042': 3, 't9c2': 3, 'tmg': 3, 'tl01': 3, 't211': 3, 't9p': 3, 'tp9': 3, 't9w': 3, 'tjz': 3, 'tnd1': 3, 't321': 3, 't0r1': 3, 'tb32': 3, 'tb1': 3, 't4s1': 3, 'tbc2': 3, 'tjt1': 3, 't392': 3, 'tqj1': 3, 't9d': 3, 'tzx': 3, 'tv22': 3, 'tw21': 3, 't312': 3, 'tbh': 3, 'ts01': 3, 'tgk1': 3, 't3v1': 3, 'tz62': 3, 'tnz1': 3, 'tt42': 3, 'tt22': 3, 't7l1': 3, 'tg72': 3, 't501': 3, 't5q1': 3, 't1r': 3, 'tt92': 3, 't93': 3, 'tm51': 3, 'ttz': 3, 't6': 3, 't0m': 3, 'tn31': 3, 't8t': 3, 'tnx': 3, 't2q': 3, 'twf': 3, 't4r1': 3, 'tmm1': 3, 'tlb2': 3, 'ts4': 3, 't832': 3, 'tdc2': 3, 'tk52': 3, 'tlw1': 3, 't69': 3, 'tz4': 3, 'tbw': 3, 'td81': 3, 'tr81': 3, 'tll1': 3, 't041': 3, 'tf41': 3, 't162': 3, 'tms1': 3, 't171': 3, 'tsx': 3, 'tmp': 3, 'tlw': 3, 't4': 3, 'txk1': 3, 'tls': 3, 'tbw1': 3, 't8f': 3, 'tg52': 3, 'tvx1': 3, 'txd1': 3, 'tkx1': 3, 'tb8': 3, 'tns': 3, 'tgc2': 3, 'tnq1': 3, 'tmt': 3, 'tvz1': 3, 't5k': 3, 't1n': 3, 'tkx': 3, 'tv52': 3, 't7b2': 3, 't012': 3, 't5': 3, 'tf02': 3, 't4z1': 3, 'tt71': 3, 'ts91': 3, 'tgx': 3, 'tqw1': 3, 'tc8': 3, 'tqr1': 3, 'tkl': 3, 'trw': 3, 'tfb': 3, 'tph': 3, 't852': 3, 't9p1': 3, 'tnx1': 3, 't2s1': 3, 'tlf1': 3, 'tq51': 3, 'tf81': 3, 'tbx1': 3, 't2w': 3, 'tjm1': 3, 'tt32': 3, 'trz': 3, 't9t1': 3, 'tn61': 3, 't28': 3, 't102': 3, 'tpq1': 3, 'tm32': 3, 't5m1': 3, 'tqc2': 3, 'tj1': 3, 'tb91': 3, 'tw8': 3, 't7g1': 3, 'tqh1': 3, 'thc2': 3, 'twv1': 3, 'tkj1': 3, 't701': 3, 'trg1': 3, 'tgg': 3, 'tpx1': 3, 'ttb': 3, 'twp': 3, 't7x': 3, 'ttp': 3, 't49': 3, 'tw62': 3, 'tc82': 3, 'th91': 3, 'tcj1': 3, 'tj': 3, 't6m1': 3, 't7v1': 3, 'tvl': 3, 't7g': 3, 'tz81': 3, 'td71': 3, 'tpp': 3, 't751': 3, 'tnc2': 3, 'ttg': 3, 't3b2': 3, 't17': 2, 't1l': 2, 'twt1': 2, 't4q': 2, 't892': 2, 'tz41': 2, 'tpz1': 2, 't9s': 2, 'ts12': 2, 'td42': 2, 'ts3': 2, 't582': 2, 'tkn': 2, 'tt51': 2, 'ttx': 2, 't6d1': 2, 'tjq': 2, 'td91': 2, 'tcx': 2, 'tcb2': 2, 'tqb1': 2, 'tfl1': 2, 'tgw1': 2, 'tb4': 2, 't0d2': 2, 't9x': 2, 'tc41': 2, 't8f1': 2, 't73': 2, 't0j': 2, 't7q': 2, 'tt01': 2, 't542': 2, 'tg': 2, 't5b': 2, 't261': 2, 'ts7': 2, 'tfx': 2, 'tqq1': 2, 't422': 2, 't2f': 2, 't6f1': 2, 't5l': 2, 'tzc2': 2, 'tvd1': 2, 't29': 2, 'txw': 2, 'tx6': 2, 'tz8': 2, 't25': 2, 'tx92': 2, 'tq11': 2, 'tvp': 2, 'tb92': 2, 'tsp1': 2, 't84': 2, 'ts21': 2, 'th81': 2, 'tm2': 2, 't2n1': 2, 'tfk': 2, 'txh': 2, 'tn92': 2, 'tp2': 2, 'tzj': 2, 'tf6': 2, 'tjf1': 2, 'tk': 2, 't9j': 2, 'tq8': 2, 'ths1': 2, 't0k1': 2, 'tg32': 2, 'tr41': 2, 'tmj': 2, 't1z1': 2, 'th6': 2, 'tb22': 2, 't191': 2, 'trh': 2, 'tlr': 2, 'tpt1': 2, 't1v': 2, 'ts02': 2, 'tz12': 2, 'ttp1': 2, 't371': 2, 'tvj': 2, 't7r1': 2, 't982': 2, 'tqp': 2, 'tgq1': 2, 'tkb1': 2, 'tbt': 2, 'tfj1': 2, 't8g1': 2, 't5b1': 2, 't0c1': 2, 't1b2': 2, 'txc': 2, 'tjb': 2, 'td2': 2, 'tdc1': 2, 'tvj1': 2, 't5q': 2, 'tbg1': 2, 't8p': 2, 't0p1': 2, 't6l': 2, 'txp': 2, 'tsk1': 2, 'tcq1': 2, 'tl81': 2, 'ts61': 2, 'twb1': 2, 'tk9': 2, 'tfw': 2, 'tzh': 2, 't1x': 2, 'tcv': 2, 'txm1': 2, 'tmv': 2, 't871': 2, 'tjb2': 2, 't9n': 2, 't0z': 2, 't7s1': 2, 'tsd1': 2, 't1j': 2, 'th02': 2, 't8b': 2, 'tzq1': 2, 'tbm1': 2, 'tm5': 2, 't8c1': 2, 'tmh': 2, 'tdk': 2, 'tlv1': 2, 'tm41': 2, 't2b1': 2, 'ttd1': 2, 't4l1': 2, 'tvb2': 2, 'tzp1': 2, 'tpq': 2, 'tnn1': 2, 'tnw': 2, 'tlz': 2, 't92': 2, 't6v1': 2, 'tbd': 2, 'tsk': 2, 't07': 2, 'tfc': 2, 'tk92': 2, 'tqt': 2, 'tn41': 2, 'tdz': 2, 'tm': 2, 't0c2': 2, 't1w1': 2, 't8x': 2, 'tn82': 2, 't83': 2, 'trl1': 2, 't3w1': 2, 't981': 2, 'tt52': 2, 't1m1': 2, 'tt31': 2, 't47': 2, 'tp91': 2, 'tvd': 2, 'twv': 2, 't902': 2, 'tdc': 2, 'ths': 2, 'tsc2': 2, 'tzx1': 2, 'tz72': 2, 'th7': 2, 't1k1': 2, 't6b2': 2, 'tg2': 2, 't862': 2, 'ts62': 2, 'tp31': 2, 'tfd1': 2, 't2g': 2, 'tb51': 2, 't68': 2, 'txx1': 2, 'thw1': 2, 't7b1': 2, 'tfv': 2, 'tm4': 2, 'tv91': 2, 'tk7': 2, 'trp': 2, 'tr22': 2, 'ttf': 2, 't6m': 2, 'tl4': 2, 'tnr1': 2, 't3g1': 2, 'tsf1': 2, 'tx61': 2, 't6g1': 2, 't1h': 2, 't782': 2, 't612': 2, 'tcb': 2, 'tr61': 2, 'tt61': 2, 't222': 2, 'tdr1': 2, 'ts42': 2, 'tpt': 2, 't202': 2, 'tj12': 2, 'tk71': 2, 't6c2': 2, 'tg42': 2, 'td02': 2, 't901': 2, 't641': 2, 'tn': 2, 'tk91': 2, 'tfb2': 2, 'tz1': 2, 't2z1': 2, 't9q': 2, 'tv92': 2, 'tv4': 2, 'thf': 2, 'th62': 2, 'tn6': 2, 'tlh': 2, 't43': 2, 'thf1': 2, 't812': 2, 'tq5': 2, 'tqg1': 2, 'tdl1': 2, 'tsx1': 2, 't1d1': 2, 'tzm': 2, 'tq42': 2, 'twj': 2, 't5r': 2, 'thl1': 2, 't42': 2, 't322': 2, 'thv1': 2, 'tnq': 2, 't9t': 2, 'th41': 2, 'tgk': 2, 't5p': 2, 't992': 2, 't6n': 2, 'ttt1': 2, 't492': 2, 'trp1': 2, 'tpj1': 2, 'th71': 2, 't6g': 2, 't4l': 2, 't54': 2, 'tss': 2, 'thh': 2, 'tcz1': 2, 't482': 2, 't441': 2, 'tz01': 2, 't592': 2, 'tkh1': 2, 'tmg1': 2, 'tlg': 2, 't48': 2, 'twc': 2, 'tjh': 2, 'tkg': 2, 'tws1': 2, 't591': 2, 'tvp1': 2, 'tc42': 2, 'tx11': 2, 'tmw': 2, 't801': 2, 'tbp1': 2, 'tlh1': 2, 'tp8': 2, 't75': 2, 'tl8': 2, 'tmx': 2, 't4p1': 2, 't8k': 2, 't0p': 2, 'tj7': 2, 'ttl1': 2, 'tdj': 2, 'tzb2': 2, 't562': 2, 'th31': 2, 'tbh1': 2, 'tgd': 2, 'trd1': 2, 't382': 2, 'tgl': 2, 't891': 2, 'tlm1': 2, 'tqd': 2, 't961': 2, 'tds1': 2, 't5h1': 2, 't2v': 2, 'tr32': 2, 'txh1': 2, 'tx91': 2, 'txx': 2, 'tc3': 2, 'tm62': 2, 'tm11': 2, 't272': 2, 'tbs1': 2, 'td21': 2, 't9g1': 2, 'tf61': 2, 'tmx1': 2, 'tfd': 2, 't2r': 2, 'tq22': 2, 'trj': 2, 'tx3': 2, 'td9': 2, 'tr9': 2, 'tpw': 2, 't4k': 2, 'tr': 2, 'tcw': 2, 'tf52': 2, 't0x': 2, 't2v1': 2, 't2k': 2, 'tql1': 2, 'tqx1': 2, 'tg3': 2, 't91': 2, 'tm91': 2, 'tnv1': 2, 'tmd1': 2, 'tds': 2, 'tn7': 2, 'tgr1': 2, 't1q1': 2, 't151': 2, 'trg': 2, 't0d1': 2, 't0m1': 2, 'tw32': 2, 't8d1': 2, 'tkm1': 2, 't601': 2, 'tfx1': 2, 'tl61': 2, 'tf11': 2, 'tz6': 2, 'tqt1': 2, 't2b': 2, 'tz31': 2, 'tzf': 2, 'tpn': 2, 't2d2': 2, 'tgg1': 2, 'tkc': 2, 'td31': 2, 't831': 2, 't152': 2, 't432': 2, 'tn5': 2, 'tdh1': 2, 'tp61': 2, 'tp52': 2, 'tc22': 2, 'tcc2': 2, 't421': 2, 't4n': 2, 'tg61': 2, 'th2': 2, 't3v': 2, 'tmp1': 2, 'tfm': 2, 'tt41': 2, 'tp4': 2, 't1r1': 2, 't2q1': 2, 't9f1': 2, 'tsm1': 2, 'tc62': 2, 'tb': 2, 'tdk1': 2, 'tdb': 2, 'tw91': 2, 'tff1': 2, 't8w1': 2, 'td01': 2, 'tzs1': 2, 't662': 2, 'twk': 2, 'thx': 2, 'tt3': 2, 't8z1': 2, 'tk1': 2, 'tfp': 2, 't0r': 2, 'tdd': 2, 'tnc': 2, 'tsr': 2, 't4h': 2, 't7f1': 2, 'tpr': 2, 'tgx1': 2, 'thk': 2, 'tf3': 2, 'tpk1': 2, 't5l1': 2, 't4f1': 2, 'tng': 2, 't372': 2, 't3d': 2, 't46': 2, 'tj5': 2, 'twx1': 2, 't26': 2, 'tfh': 2, 'tcm1': 2, 'tpl': 2, 't1b': 2, 't201': 1, 't652': 1, 'tb6': 1, 'tg02': 1, 't51': 1, 'tj62': 1, 't502': 1, 'tlf': 1, 'tcd': 1, 'tqg': 1, 'tb82': 1, 'ts1': 1, 'tkc2': 1, 'tnf1': 1, 't5k1': 1, 'tzg1': 1, 't2w1': 1, 'td8': 1, 'tc01': 1, 't7z1': 1, 'txr': 1, 'tvw': 1, 't5x': 1, 'tj21': 1, 't16': 1, 't4j1': 1, 't742': 1, 't0v1': 1, 'tnh1': 1, 'tv71': 1, 'tg22': 1, 'tnn': 1, 'tg82': 1, 'tg92': 1, 'tmr': 1, 't3m1': 1, 'tz3': 1, 't08': 1, 'tcc1': 1, 'tq4': 1, 't96': 1, 'tvt': 1, 'tc31': 1, 'td3': 1, 'tvv': 1, 'trq': 1, 'tf32': 1, 't4w1': 1, 'tdq': 1, 't401': 1, 'tsf': 1, 'th3': 1, 'tbn': 1, 't4b2': 1, 'tr11': 1, 'tv41': 1, 'tm72': 1, 't6x1': 1, 'tc1': 1, 'tvc': 1, 'tl82': 1, 't5f': 1, 't0s1': 1, 't2l1': 1, 'tn02': 1, 'trm1': 1, 'tkh': 1, 'tkk1': 1, 'thn1': 1, 't6q': 1, 'tc4': 1, 't71': 1, 't2z': 1, 't8c': 1, 'tj6': 1, 'tzz1': 1, 'tr12': 1, 'tmn1': 1, 't44': 1, 'txv': 1, 't3j': 1, 'tdw1': 1, 'trj1': 1, 't932': 1, 'tv11': 1, 'td52': 1, 'tff': 1, 'tmq': 1, 'tl52': 1, 't7r': 1, 'tzr1': 1, 't45': 1, 't0n': 1, 'trb': 1, 'tn2': 1, 'tfn': 1, 'txp1': 1, 'twg': 1, 'tr91': 1, 'tzs': 1, 'tvt1': 1, 'tmc1': 1, 'tt91': 1, 'tnd': 1, 'th22': 1, 't56': 1, 'tjg1': 1, 't922': 1, 't2s': 1, 'twb': 1, 'tqm1': 1, 'txz1': 1, 'txf': 1, 'tld': 1, 'tq6': 1, 't2h1': 1, 'tbk': 1, 'tr3': 1, 'tf1': 1, 'tjk1': 1, 'tpf1': 1, 'tc52': 1, 'tnm1': 1, 'tc92': 1, 't89': 1, 'ts71': 1, 'twq1': 1, 'tfm1': 1, 'tw02': 1, 'tpl1': 1, 'tn62': 1, 't8q1': 1, 'tk41': 1, 'tgs1': 1, 'tv51': 1, 't7t': 1, 'tzf1': 1, 'tq41': 1, 't9v': 1, 'trk1': 1, 'tnt1': 1, 't5d1': 1, 't0b2': 1, 't061': 1, 'tt5': 1, 'ttj1': 1, 't6l1': 1, 'tjw': 1, 'tz11': 1, 't9': 1, 't872': 1, 'trl': 1, 'tzz': 1, 't5b2': 1, 'trs': 1, 'tm6': 1, 'txl': 1, 'tmc2': 1, 'tq1': 1, 'tkm': 1, 't2h': 1, 'txb2': 1, 'tj22': 1, 'tm61': 1, 'td72': 1, 't052': 1, 'tt2': 1, 'tv82': 1, 't842': 1, 'tcm': 1, 't142': 1, 'tjx': 1, 't4z': 1, 't7c': 1, 't7x1': 1, 'trn1': 1, 'tt81': 1, 'trd': 1, 'ts9': 1, 'tdw': 1, 'tct1': 1, 't18': 1, 't02': 1, 't98': 1, 'tb72': 1, 't092': 1, 'txn': 1, 'tjf': 1, 't72': 1, 'tr52': 1, 'tht': 1, 'ts81': 1, 'tcp': 1, 'tgp': 1, 't9h1': 1, 'tdx1': 1, 'trc': 1, 'twl1': 1, 'tkd1': 1, 'tf31': 1, 'tjk': 1, 'tzv1': 1, 't8n1': 1, 't9l': 1, 'th21': 1, 'tc7': 1, 't671': 1, 't581': 1, 'tx9': 1, 'trb2': 1, 'tsh': 1, 'tj31': 1, 'tw01': 1, 't632': 1, 'txs1': 1, 'twq': 1, 'tfh1': 1, 'tw5': 1, 'tw2': 1, 't15': 1, 't7c1': 1, 't331': 1, 'tw71': 1, 'ttv': 1, 'ttk': 1, 'tqf1': 1, 't5d': 1, 't611': 1, 'tl62': 1, 't362': 1, 't05': 1, 'thj': 1, 'ttm1': 1, 'tlq': 1, 't231': 1, 't6p': 1, 'tfq': 1, 't702': 1, 'tj2': 1, 'tnp': 1, 'ttn1': 1, 'tgq': 1, 'tps': 1, 't7b': 1, 'tcd1': 1, 'tr7': 1, 'tn9': 1, 't3f1': 1, 'thq1': 1, 'td11': 1, 't552': 1, 'tws': 1, 'twm1': 1, 'tcg': 1, 't0q': 1, 'tp1': 1, 'tkn1': 1, 'tf51': 1, 'twr1': 1, 'tdh': 1, 'tpf': 1, 'tnz': 1, 't7z': 1, 'tw41': 1, 'tsg1': 1, 'tnw1': 1, 'tdf': 1, 'twh1': 1, 'txl1': 1, 'tx02': 1, 'td1': 1, 'tw7': 1, 'th9': 1, 'tzc1': 1, 'tw92': 1, 't2l': 1, 'tr31': 1, 'tn42': 1, 'tx62': 1, 'tk5': 1, 'tx42': 1, 't1g1': 1, 'tmk': 1, 't1z': 1, 't741': 1, 't6c1': 1, 'tbx': 1, 'tn01': 1, 'tgz1': 1, 'tx21': 1, 'tx32': 1, 'tns1': 1, 'tqr': 1, 'trf1': 1, 'tks': 1, 'tjv1': 1, 't1b1': 1, 'tmb2': 1, 't642': 1, 'tqn1': 1, 'tsj': 1, 't9b1': 1, 't61': 1, 'tn52': 1, 'thm': 1, 't9l1': 1, 't182': 1, 'tr4': 1, 't77': 1, 't7t1': 1, 'tm92': 1, 'tpb1': 1, 'tc91': 1, 'thg': 1, 'tl91': 1, 'tth1': 1, 't3z': 1, 'th4': 1, 'tk81': 1, 't9v1': 1, 't01': 1, 'tk21': 1, 'tqw': 1, 'tkr': 1, 'tv12': 1, 'tk2': 1, 'tl22': 1, 'th12': 1, 'tmb1': 1, 'tp92': 1, 'tf92': 1, 't451': 1, 'tvf1': 1, 'tpv1': 1, 'tx5': 1, 't4s': 1, 'txn1': 1, 'tgl1': 1, 'tv31': 1, 't3k1': 1, 'tbr1': 1, 'tm8': 1, 'tn72': 1, 't9b': 1, 'tbt1': 1, 't111': 1, 'tgv': 1, 'tvk1': 1, 'tsl1': 1, 'tj51': 1, 't962': 1, 't5w': 1, 't1s1': 1, 'th': 1, 'tmh1': 1, 'tql': 1, 'tch': 1, 't99': 1, 'tfs': 1, 'tfw1': 1, 't2j1': 1, 'tn21': 1, 'tdt': 1, 'tv42': 1, 'tgm1': 1, 'tq71': 1, 'tnc1': 1, 'txk': 1, 'tlt1': 1, 'tv01': 1, 'thw': 1, 'tm12': 1, 'tz71': 1, 'tph1': 1, 'tcx1': 1, 'tm21': 1, 'tgs': 1, 'tjc1': 1, 't2p1': 1, 't3s': 1, 'txc1': 1, 'tr72': 1, 'tw72': 1, 'tqj': 1, 't442': 1, 'tpm': 1, 'tp01': 1, 'twf1': 1, 'tbq': 1, 't1p': 1, 'twh': 1, 'tp02': 1, 'tr71': 1, 'tl92': 1, 't0q1': 1, 'tk02': 1, 't8r1': 1, 't87': 1, 'tqn': 1, 'tw9': 1, 'tg01': 1, 'tm82': 1, 'tnk1': 1, 'tmf1': 1, 'tvh1': 1, 't6b1': 1, 't0x1': 1, 'tpj': 1, 'tz2': 1, 'tsd': 1, 'tq72': 1, 't8v1': 1, 't821': 1, 'tk72': 1, 't1t1': 1, 'tvg1': 1, 't23': 1, 'tv2': 1, 't7m1': 1, 't5m': 1, 'ttw': 1, 'tg91': 1, 'tjp1': 1, 'tbb': 1, 'tl1': 1, 'tzl1': 1, 'tjl1': 1, 'tcr': 1, 'tk62': 1, 'tj01': 1, 'trw1': 1, 't3l1': 1, 'tl02': 1, 't1t': 1, 'tp': 1, 'tl7': 1, 'tfl': 1, 'tfr': 1, 'tvn': 1, 't2f1': 1, 'tq82': 1, 'tdb1': 1, 'tlp': 1, 'thz1': 1, 'tn32': 1, 'thb2': 1, 'tf8': 1, 't5d2': 1, 'tz32': 1, 'tmb': 1, 'tc71': 1, 't282': 1, 't761': 1, 't2d1': 1, 'tcs': 1, 'tj81': 1, 'tbr': 1, 't3z1': 1, 'tw82': 1, 't06': 1, 't5t': 1, 't522': 1, 'tg31': 1, 't841': 1, 'tzt': 1, 't811': 1, 't5n1': 1, 'tzd': 1, 't7l': 1, 'tlc': 1, 'tn1': 1, 'tt1': 1, 't6s1': 1, 'tjn': 1, 'tfz': 1, 't8d': 1, 'thd1': 1, 't121': 1, 't4j': 1, 'tp71': 1, 't9m1': 1, 'tpw1': 1, 't3s1': 1, 'tln': 1, 'trf': 1, 't6j': 1, 'tx22': 1, 't5z': 1, 'tkv': 1, 'tcs1': 1, 'tgw': 1, 't1c2': 1, 'tq': 1, 't0h': 1, 'tnj1': 1, 't301': 1, 't52': 1, 't8z': 1, 't5z1': 1, 'tng1': 1, 't5t1': 1, 'tb71': 1, 't0t': 1, 'tkp1': 1, 'tj71': 1, 'tkd': 1, 'tcr1': 1, 'tmm': 1, 't262': 1, 'tbp': 1, 't9m': 1, 'tml1': 1, 'tjs': 1, 'tzc': 1, 'tz51': 1, 'tpd1': 1, 't9r': 1, 't6p1': 1, 'tg1': 1, 'tcf1': 1, 'tkk': 1, 'tzh1': 1, 't3t1': 1, 't341': 1, 'tr62': 1, 'td61': 1, 'tdt1': 1, 'tb61': 1, 'tfn1': 1, 'trv1': 1, 't411': 1, 't5c1': 1, 'tvr1': 1, 't2b2': 1, 't731': 1, 'trb1': 1, 't94': 1, 't0d': 1, 'tqd1': 1, 'tk4': 1, 't081': 1, 'thp': 1, 'tb31': 1, 'tz52': 1, 'txg1': 1, 't7m': 1, 'tkw1': 1, 't8b2': 1, 'tb3': 1, 'tg4': 1, 't0w': 1, 't1m': 1, 'tlt': 1, 'tg81': 1, 'tzp': 1, 'tg8': 1, 't1f': 1, 'tgt': 1, 't04': 1, 'twt': 1, 'tw12': 1, 'tj02': 1, 'tc': 1, 't4k1': 1, 'tqc1': 1, 'tkl1': 1, 't6v': 1, 't32': 1, 'tt02': 1, 't8s': 1, 't772': 1, 't22': 1, 'tk32': 1, 'tml': 1, 'tlx1': 1, 'tpk': 1, 'tjm': 1, 't3': 1, 'twc1': 1, 'tkq1': 1, 'tkt': 1, 'tsn1': 1, 'tsc1': 1, 't57': 1, 'tf72': 1, 't551': 1, 'tr8': 1, 't521': 1, 'tg41': 1, 'tw3': 1, 'tcz': 1, 'tl32': 1, 'tkb': 1, 'tdl': 1, 't1d': 1, 't122': 1, 'td6': 1, 'tq61': 1, 'tzw1': 1, 'txq1': 1, 'tj72': 1, 't5h': 1, 'twr': 1, 'txt1': 1, 'tp11': 1, 'tm01': 1, 't752': 1, 't7s': 1, 't79': 1, 'tc32': 1, 'tts': 1, 'tl12': 1, 'tjg': 1, 'tn11': 1, 't1h1': 1, 'tk12': 1, 'tbl': 1, 'tpm1': 1, 'tb81': 1, 'tp42': 1, 't8r': 1, 't5n': 1, 'tl5': 1, 'ts52': 1, 'trr1': 1, 'tch1': 1, 'ts41': 1, 't53': 1, 'tmk1': 1, 'ttq': 1, 't3h1': 1, 'tc9': 1, 't3r': 1, 't3d2': 1, 't0v': 1, 'tjh1': 1, 'tzv': 1, 'tbf': 1, 't36': 1, 't9z': 1, 'tjv': 1, 'ts32': 1, 'tll': 1, 't7f': 1, 'twk1': 1, 't281': 1, 'ts72': 1, 'tf82': 1, 'tcp1': 1, 'tfv1': 1, 'th92': 1, 'tmv1': 1, 'thx1': 1, 'tdx': 1, 'tbc': 1, 'tq2': 1, 'tbg': 1, 'tz': 1, 't8s1': 1, 't4p': 1, 'tgv1': 1, 't0z1': 1, 'tg21': 1, 'tj42': 1, 'tvw1': 1, 't2c2': 1, 'tk3': 1, 'tvq': 1, 'tm71': 1, 'txr1': 1, 'twm': 1, 'tkw': 1, 'tlk1': 1, 'tzj1': 1, 'thb': 1, 'tvs': 1, 'tlx': 1, 'tqm': 1, 'tz92': 1, 't85': 1, 'tm22': 1, 't172': 1, 't8v': 1, 'tk8': 1, 't472': 1, 't2t1': 1, 't781': 1, 'tbj1': 1, 'th32': 1, 'tkz': 1, 'tnb1': 1, 't712': 1, 'tg5': 1, 'tgm': 1, 'tsc': 1, 'thm1': 1, 'tc12': 1, 'tk42': 1, 't9b2': 1, 'tx31': 1, 't461': 1, 'tj52': 1, 'tsn': 1, 't4c': 1, 'tgd1': 1, 'tj61': 1, 'tb2': 1, 'txd': 1, 'tgh': 1, 't27': 1, 't7': 1, 't681': 1, 'tlq1': 1, 'tlc2': 1, 'txc2': 1, 'tz7': 1, 't0f': 1, 'ttq1': 1, 'th51': 1, 't3f': 1, 'tv3': 1, 't97': 1, 'tdm': 1, 'tj32': 1, 'tl11': 1, 't9f': 1, 'tbk1': 1, 't7n': 1, 't722': 1, 't732': 1, 'twd': 1, 't8m1': 1, 'tnk': 1, 't9k1': 1, 'tzd1': 1, 'txt': 1, 't4v': 1, 'txs': 1, 't03': 1, 'tsz1': 1, 'tg9': 1, 'tmw1': 1, 't4b': 1, 'tck1': 1, 'tgc1': 1, 'tfs1': 1, 'tvg': 1, 'txw1': 1, 't8p1': 1, 't972': 1, 'tvm': 1, 'tv62': 1, 'tqs1': 1, 'thl': 1, 't101': 1, 'tn8': 1, 't7w1': 1, 'tps1': 1, 'tb42': 1, 't8g': 1, 'tf5': 1, 'tjz1': 1, 't1k': 1, 'tf62': 1, 'tfg': 1, 'tgf': 1, 'ts82': 1, 'tdv1': 1, 'tth': 1, 'tnb': 1, 't9g': 1, 't67': 1, 'tx8': 1, 'tw1': 1, 'tlp1': 1, 't3n1': 1, 'tw42': 1, 't37': 1, 'tk01': 1, 'txj': 1, 't4m': 1, 'ts11': 1, 'tg51': 1, 'tbl1': 1, 'tdj1': 1, 'tlv': 1, 'tc02': 1, 't941': 1, 'tmq1': 1, 'tt7': 1, 'th72': 1, 'trc2': 1, 't132': 1, 'tv6': 1, 'tjc2': 1, 'ts8': 1, 't7k': 1, 'tvx': 1, 'tw61': 1, 't6s': 1, 'tjd1': 1, 't2x': 1, 't4d': 1, 't7h1': 1, 'tr01': 1, 't251': 1, 't6b': 1, 't8k1': 1, 'tbz': 1, 't352': 1, 'twn': 1, 'tj11': 1, 'txv1': 1, 'tv72': 1, 'tgf1': 1, 'tr6': 1, 't3c2': 1, 'tpv': 1, 'tp22': 1, 'tb52': 1, 'tcb1': 1, 't2k1': 1, 't1f1': 1, 'tw4': 1, 'tln1': 1, 't1x1': 1, 't6t1': 1, 'tfp1': 1, 'tkz1': 1, 'td12': 1, 't8j1': 1, 'tww1': 1, 'tk11': 1, 'tdf1': 1, 'tx81': 1, 'tjd': 1, 't95': 1, 't2j': 1, 'tp51': 1, 't022': 1, 't631': 1, 't1c1': 1, 'tzk': 1, 'tlj1': 1, 'tm31': 1, 'tcg1': 1, 'tpg': 1, 'ts': 1, 't6w1': 1, 'tl41': 1, 'tw31': 1, 'tt62': 1, 't62': 1, 'ttv1': 1, 't9r1': 1, 'tgh1': 1, 'txb1': 1, 'tj92': 1, 'tv5': 1, 'ttr1': 1, 'tf4': 1, 'tf': 1, 'tp81': 1, 'tq9': 1, 'twl': 1, 't5x1': 1, 'td5': 1, 't571': 1, 't1d2': 1, 'twx': 1, 't24': 1})\n"
     ]
    }
   ],
   "source": [
    "import collections\n",
    "T_collection = collections.Counter(T)\n",
    "\n",
    "def usefulTags(tag_collection, num):\n",
    "    \n",
    "    for t in tag_collection:\n",
    "        t\n",
    "\n",
    "print(counter)\n"
   ]
  },
  {
   "cell_type": "code",
   "execution_count": 67,
   "metadata": {},
   "outputs": [
    {
     "data": {
      "text/plain": [
       "0"
      ]
     },
     "execution_count": 67,
     "metadata": {},
     "output_type": "execute_result"
    }
   ],
   "source": [
    "mySlide1 = createSlide([H[3]])\n",
    "\n",
    "mySlide2 = createSlide([V[2],V[5]])\n",
    "\n",
    "\n",
    "calcTransScores(mySlide1,mySlide2)"
   ]
  },
  {
   "cell_type": "code",
   "execution_count": 61,
   "metadata": {},
   "outputs": [
    {
     "data": {
      "text/plain": [
       "500"
      ]
     },
     "execution_count": 61,
     "metadata": {},
     "output_type": "execute_result"
    }
   ],
   "source": [
    "len(filterPhotos(myPhotos, \"H\"))"
   ]
  }
 ],
 "metadata": {
  "kernelspec": {
   "display_name": "Python 3",
   "language": "python",
   "name": "python3"
  },
  "language_info": {
   "codemirror_mode": {
    "name": "ipython",
    "version": 3
   },
   "file_extension": ".py",
   "mimetype": "text/x-python",
   "name": "python",
   "nbconvert_exporter": "python",
   "pygments_lexer": "ipython3",
   "version": "3.7.1"
  }
 },
 "nbformat": 4,
 "nbformat_minor": 2
}
