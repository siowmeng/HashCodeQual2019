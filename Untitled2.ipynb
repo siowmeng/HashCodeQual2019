{
 "cells": [
  {
   "cell_type": "code",
   "execution_count": 75,
   "metadata": {},
   "outputs": [],
   "source": [
    "import itertools\n",
    "from parseInput import num_of_photos,input_parser\n",
    "from classes import slide,photo\n",
    "filepath = 'input/b_lovely_landscapes.txt'\n",
    "\n",
    "def calcTransScores(slide1, slide2):\n",
    "    \n",
    "    numCommon = len(slide1.tags.intersection(slide2.tags))\n",
    "    numDiff1 = len(slide1.tags.difference(slide2.tags))\n",
    "    numDiff2 = len(slide2.tags.difference(slide1.tags))\n",
    "    \n",
    "    return min(numCommon, numDiff1, numDiff2)\n",
    "\n",
    "def calcSlideshowScores(listSlides):\n",
    "    \n",
    "    prevSlide = None\n",
    "    currSlide = None\n",
    "    \n",
    "    totalScore = 0\n",
    "    for s in listSlides:\n",
    "        prevSlide = currSlide\n",
    "        currSlide = s\n",
    "        \n",
    "        if prevSlide == None:\n",
    "            continue\n",
    "        \n",
    "        totalScore += calcTransScores(prevSlide, currSlide)\n",
    "    \n",
    "    return totalScore\n",
    "\n",
    "def output_slideshow(filename, slide_list):\n",
    "    \"\"\"\n",
    "    returns: Output File given a list of slide class\n",
    "    \"\"\"\n",
    "    \"\"\"Writes an output file with the required format.\"\"\"\n",
    "    with open(filename, 'w') as f:\n",
    "\n",
    "        f.write(f\"{len(slide_list)}\\n\")\n",
    "\n",
    "        for slide in slide_list:\n",
    "            if slide.slideType == 'V':\n",
    "                V1, V2 = slide.photos\n",
    "                f.write(f\"{V1.photoID} {V2.photoID}\\n\")\n",
    "            else:\n",
    "                H = slide.photos[0]\n",
    "                f.write(f\"{H.photoID}\\n\")\n",
    "                \n",
    "total = num_of_photos(filepath)\n",
    "photos=input_parser(filepath)"
   ]
  },
  {
   "cell_type": "code",
   "execution_count": 76,
   "metadata": {},
   "outputs": [],
   "source": [
    "tag_count = {}\n",
    "for p in photos:\n",
    "    for tag in p.tags:\n",
    "        if tag in tag_count:\n",
    "            tag_count[tag].append(p)\n",
    "        else:\n",
    "            tag_count[tag] = [p]\n"
   ]
  },
  {
   "cell_type": "code",
   "execution_count": 77,
   "metadata": {},
   "outputs": [],
   "source": [
    "slidelist = []\n",
    "exist_photo = []\n",
    "k=0\n",
    "for tagobj,photos in tag_count.items():\n",
    "    if len(photos) > 1:\n",
    "        if (photos[0].photoID not in exist_photo) and (photos[1].photoID not in exist_photo):\n",
    "            slidelist.append(slide(photos=[photos[0]],slideType='H'))\n",
    "            slidelist.append(slide(photos=[photos[1]],slideType='H'))\n",
    "            exist_photo.append(photos[0].photoID)\n",
    "            exist_photo.append(photos[1].photoID)\n",
    "            k += 1\n",
    "            if k > 40000:\n",
    "                break;\n",
    "        "
   ]
  },
  {
   "cell_type": "code",
   "execution_count": 78,
   "metadata": {},
   "outputs": [],
   "source": [
    "score = calcSlideshowScores(slidelist)"
   ]
  },
  {
   "cell_type": "code",
   "execution_count": 79,
   "metadata": {},
   "outputs": [
    {
     "data": {
      "text/plain": [
       "107529"
      ]
     },
     "execution_count": 79,
     "metadata": {},
     "output_type": "execute_result"
    }
   ],
   "source": [
    "score"
   ]
  },
  {
   "cell_type": "code",
   "execution_count": 80,
   "metadata": {},
   "outputs": [],
   "source": [
    "output_slideshow('./results.txt',slidelist)"
   ]
  },
  {
   "cell_type": "code",
   "execution_count": null,
   "metadata": {},
   "outputs": [],
   "source": []
  }
 ],
 "metadata": {
  "kernelspec": {
   "display_name": "Python 3",
   "language": "python",
   "name": "python3"
  },
  "language_info": {
   "codemirror_mode": {
    "name": "ipython",
    "version": 3
   },
   "file_extension": ".py",
   "mimetype": "text/x-python",
   "name": "python",
   "nbconvert_exporter": "python",
   "pygments_lexer": "ipython3",
   "version": "3.6.5"
  }
 },
 "nbformat": 4,
 "nbformat_minor": 2
}
