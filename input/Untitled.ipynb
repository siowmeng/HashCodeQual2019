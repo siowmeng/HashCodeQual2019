{
 "cells": [
  {
   "cell_type": "code",
   "execution_count": 13,
   "metadata": {},
   "outputs": [
    {
     "name": "stdout",
     "output_type": "stream",
     "text": [
      "['H', '3', 'cat', 'beach', 'sun\\n']\n",
      "['V', '2', 'selfie', 'smile\\n']\n",
      "['V', '2', 'garden', 'selfie\\n']\n",
      "['H', '2', 'garden', 'cat\\n']\n"
     ]
    }
   ],
   "source": [
    "filepath = './a_example.txt'\n",
    "lines = open(filepath).readlines()\n",
    "i = 0\n",
    "photos = []\n",
    "for line in lines:\n",
    "    if i > 0:\n",
    "        photo_info = line.split(' ')\n",
    "        print(photo_info)\n",
    "        orientation = photo_info[0]\n",
    "        tag_num = int(photo_info[1])\n",
    "        tags = []\n",
    "        for j in range(tag_num):\n",
    "            tags.append(photo_info[2+j])\n",
    "        photos.append({\n",
    "            'orientation':orientation,\n",
    "            'tags':tags\n",
    "        })\n",
    "    i += 1\n"
   ]
  },
  {
   "cell_type": "code",
   "execution_count": 14,
   "metadata": {},
   "outputs": [
    {
     "data": {
      "text/plain": [
       "[{'orientation': 'H', 'tags': ['cat', 'beach', 'sun\\n']},\n",
       " {'orientation': 'V', 'tags': ['selfie', 'smile\\n']},\n",
       " {'orientation': 'V', 'tags': ['garden', 'selfie\\n']},\n",
       " {'orientation': 'H', 'tags': ['garden', 'cat\\n']}]"
      ]
     },
     "execution_count": 14,
     "metadata": {},
     "output_type": "execute_result"
    }
   ],
   "source": [
    "photos"
   ]
  },
  {
   "cell_type": "code",
   "execution_count": null,
   "metadata": {},
   "outputs": [],
   "source": []
  }
 ],
 "metadata": {
  "kernelspec": {
   "display_name": "Python 3",
   "language": "python",
   "name": "python3"
  },
  "language_info": {
   "codemirror_mode": {
    "name": "ipython",
    "version": 3
   },
   "file_extension": ".py",
   "mimetype": "text/x-python",
   "name": "python",
   "nbconvert_exporter": "python",
   "pygments_lexer": "ipython3",
   "version": "3.6.5"
  }
 },
 "nbformat": 4,
 "nbformat_minor": 2
}
